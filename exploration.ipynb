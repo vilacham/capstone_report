{
 "cells": [
  {
   "cell_type": "markdown",
   "metadata": {},
   "source": [
    "# Data exploration\n",
    "This notebook has the goal of exploring the NBA games dataset."
   ]
  },
  {
   "cell_type": "markdown",
   "metadata": {},
   "source": [
    "In the code cell below, I will import the dataset using Pandas."
   ]
  },
  {
   "cell_type": "code",
   "execution_count": 1,
   "metadata": {
    "collapsed": true
   },
   "outputs": [],
   "source": [
    "# Import pandas\n",
    "import pandas as pd\n",
    "\n",
    "# Import dataset as data\n",
    "data = pd.read_excel('capstone_database.xlsx')"
   ]
  },
  {
   "cell_type": "markdown",
   "metadata": {},
   "source": [
    "In the code cell below, I will: \n",
    "* get a copy of the original dataset to work from now on;\n",
    "* rename columns in the dataset; and\n",
    "* remove missing values."
   ]
  },
  {
   "cell_type": "code",
   "execution_count": 2,
   "metadata": {
    "collapsed": true
   },
   "outputs": [],
   "source": [
    "# Get a copy from the original data to work on\n",
    "data_copy = data\n",
    "\n",
    "# Rename dataset columns\n",
    "data_copy.columns = ['DATE', 'A TEAM', 'H TEAM', 'osite', 'A PTS', 'H PTS', 'A STK', 'H STK', 'A PTS LG', 'A FGM LG', 'A FGA LG',\n",
    "                     'A 3PM LG', 'A 3PA LG', 'A FTM LG', 'A FTA LG', 'A OREB LG', 'A DREB LG', 'A REB LG', 'A AST LG', \n",
    "                     'A TOV LG', 'A STL LG', 'A BLK LG', 'H PTS LG', 'H FGM LG', 'H FGA LG', 'H 3PM LG', 'H 3PA LG', 'H FTM LG', \n",
    "                     'H FTA LG', 'H OREB LG', 'H DREB LG', 'H REB LG', 'H AST LG', 'H TOV LG', 'H STL LG', 'H BLK LG', \n",
    "                     'A PTS L2G', 'A FGM L2G', 'A FGA L2G', 'A 3PM L2G', 'A 3PA L2G', 'A FTM L2G', 'A FTA L2G', 'A OREB L2G', \n",
    "                     'A DREB L2G', 'A REB L2G', 'A AST L2G', 'A TOV L2G', 'A STL L2G', 'A BLK L2G', 'H PTS L2G', 'H FGM L2G', \n",
    "                     'H FGA L2G', 'H 3PM L2G', 'H 3PA L2G', 'H FTM L2G', 'H FTA L2G', 'H OREB L2G', 'H DREB L2G', 'H REB L2G', \n",
    "                     'H AST L2G', 'H TOV L2G', 'H STL L2G', 'H BLK L2G', 'A PTS L5G', 'A FGM L5G', 'A FGA L5G', 'A 3PM L5G', \n",
    "                     'A 3PA L5G', 'A FTM L5G', 'A FTA L5G', 'A OREB L5G', 'A DREB L5G', 'A REB L5G', 'A AST L5G', 'A TOV L5G', \n",
    "                     'A STL L5G', 'A BLK L5G', 'H PTS L5G', 'H FGM L5G', 'H FGA L5G', 'H 3PM L5G', 'H 3PA L5G', 'H FTM L5G', \n",
    "                     'H FTA L5G', 'H OREB L5G', 'H DREB L5G', 'H REB L5G', 'H AST L5G', 'H TOV L5G', 'H STL L5G', 'H BLK L5G', \n",
    "                     'OVT', 'DAY', 'MTH', 'PLAYOFFS']\n",
    "\n",
    "# Import numpy\n",
    "import numpy as np\n",
    "\n",
    "# Replace '-' and 'away' by NaN values and then replace it\n",
    "data_copy.replace(to_replace = '-', value = np.nan, inplace = True, regex = True)\n",
    "data_copy.replace(to_replace = 'away', value = np.nan, inplace = True, regex = True)\n",
    "data_copy.dropna(inplace = True)\n",
    "data_copy.reset_index(inplace = True)\n",
    "\n",
    "# Deal with 'DAY' and 'MTH' columns\n",
    "data_copy = pd.get_dummies(data_copy, columns=['DAY', 'MTH'])\n",
    "\n",
    "# Create label column\n",
    "data_copy['WINNER'] = (data_copy['H PTS'] > data_copy['A PTS']).astype(int)"
   ]
  },
  {
   "cell_type": "markdown",
   "metadata": {},
   "source": [
    "In the following code cells, I will explore some of the data:"
   ]
  },
  {
   "cell_type": "code",
   "execution_count": 3,
   "metadata": {},
   "outputs": [
    {
     "name": "stdout",
     "output_type": "stream",
     "text": [
      "Average away team points per game: 96.89\n",
      "Standard deviation: 12.20\n"
     ]
    }
   ],
   "source": [
    "print('Average away team points per game: {:.2f}'.format(data_copy['A PTS'].mean()))\n",
    "print('Standard deviation: {:.2f}'.format(data_copy['A PTS'].std()))"
   ]
  },
  {
   "cell_type": "code",
   "execution_count": 4,
   "metadata": {},
   "outputs": [
    {
     "name": "stdout",
     "output_type": "stream",
     "text": [
      "Average home team points per game: 100.11\n",
      "Standard deviation: 12.23\n"
     ]
    }
   ],
   "source": [
    "print('Average home team points per game: {:.2f}'.format(data_copy['H PTS'].mean()))\n",
    "print('Standard deviation: {:.2f}'.format(data_copy['H PTS'].std()))"
   ]
  },
  {
   "cell_type": "code",
   "execution_count": 5,
   "metadata": {},
   "outputs": [
    {
     "name": "stdout",
     "output_type": "stream",
     "text": [
      "Home team victory percentage: 60.25%\n"
     ]
    }
   ],
   "source": [
    "print('Home team victory percentage: {:.2f}%'.format(data_copy['WINNER'].mean() * 100))"
   ]
  },
  {
   "cell_type": "code",
   "execution_count": 6,
   "metadata": {
    "collapsed": true
   },
   "outputs": [],
   "source": [
    "home_victories_data = data_copy.loc[data_copy['WINNER'] == 1]\n",
    "away_victories_data = data_copy.loc[data_copy['WINNER'] == 0]"
   ]
  },
  {
   "cell_type": "code",
   "execution_count": 7,
   "metadata": {},
   "outputs": [
    {
     "name": "stdout",
     "output_type": "stream",
     "text": [
      "When the home team won:\n",
      "Field goals made in the last game by the away team: 36.60 (+/- 5.18)\n",
      "Field goals made in the last game by the home team: 36.98 (+/- 5.15)\n",
      "Three points made in the last game by the away team: 6.46 (+/- 3.22)\n",
      "Three points made in the last game by the home team: 6.70 (+/- 3.27)\n",
      "Free throws made in the last game by the away team: 18.39 (+/- 6.35)\n",
      "Free throws made in the last game by the home team: 18.48 (+/- 6.29)\n",
      "Rebounds in the last game by the away team: 41.92 (+/- 6.49)\n",
      "Rebounds in the last game by the home team: 42.09 (+/- 6.42)\n",
      "Assists in the last game by the away team: 21.25 (+/- 5.10)\n",
      "Assists in the last game by the home team: 21.65 (+/- 5.13)\n",
      "Turnovers in the last game by the away team: 13.83 (+/- 3.89)\n",
      "Turnovers in the last game by the home team: 13.61 (+/- 3.80)\n",
      "Steals in the last game by the away team: 7.51 (+/- 2.89)\n",
      "Steals in the last game by the home team: 7.50 (+/- 2.93)\n",
      "Blocks in the last game by the away team: 4.81 (+/- 2.57)\n",
      "Blocks in the last game by the home team: 4.90 (+/- 2.58)\n"
     ]
    }
   ],
   "source": [
    "print('When the home team won:')\n",
    "print('Field goals made in the last game by the away team: {:.2f} (+/- {:.2f})'.format(home_victories_data['A FGM LG'].mean(),\n",
    "                                                                                       home_victories_data['A FGM LG'].std()))\n",
    "print('Field goals made in the last game by the home team: {:.2f} (+/- {:.2f})'.format(home_victories_data['H FGM LG'].mean(),\n",
    "                                                                                       home_victories_data['H FGM LG'].std()))\n",
    "print('Three points made in the last game by the away team: {:.2f} (+/- {:.2f})'.format(home_victories_data['A 3PM LG'].mean(),\n",
    "                                                                                        home_victories_data['A 3PM LG'].std()))\n",
    "print('Three points made in the last game by the home team: {:.2f} (+/- {:.2f})'.format(home_victories_data['H 3PM LG'].mean(),\n",
    "                                                                                        home_victories_data['H 3PM LG'].std()))\n",
    "print('Free throws made in the last game by the away team: {:.2f} (+/- {:.2f})'.format(home_victories_data['A FTM LG'].mean(),\n",
    "                                                                                       home_victories_data['A FTM LG'].std()))\n",
    "print('Free throws made in the last game by the home team: {:.2f} (+/- {:.2f})'.format(home_victories_data['H FTM LG'].mean(),\n",
    "                                                                                       home_victories_data['H FTM LG'].std()))\n",
    "print('Rebounds in the last game by the away team: {:.2f} (+/- {:.2f})'.format(home_victories_data['A REB LG'].mean(), \n",
    "                                                                               home_victories_data['A REB LG'].std()))\n",
    "print('Rebounds in the last game by the home team: {:.2f} (+/- {:.2f})'.format(home_victories_data['H REB LG'].mean(),\n",
    "                                                                               home_victories_data['H REB LG'].std()))\n",
    "print('Assists in the last game by the away team: {:.2f} (+/- {:.2f})'.format(home_victories_data['A AST LG'].mean(),\n",
    "                                                                              home_victories_data['A AST LG'].std()))\n",
    "print('Assists in the last game by the home team: {:.2f} (+/- {:.2f})'.format(home_victories_data['H AST LG'].mean(),\n",
    "                                                                              home_victories_data['H AST LG'].std()))\n",
    "print('Turnovers in the last game by the away team: {:.2f} (+/- {:.2f})'.format(home_victories_data['A TOV LG'].mean(),\n",
    "                                                                                home_victories_data['A TOV LG'].std()))\n",
    "print('Turnovers in the last game by the home team: {:.2f} (+/- {:.2f})'.format(home_victories_data['H TOV LG'].mean(),\n",
    "                                                                                home_victories_data['H TOV LG'].std()))\n",
    "print('Steals in the last game by the away team: {:.2f} (+/- {:.2f})'.format(home_victories_data['A STL LG'].mean(),\n",
    "                                                                             home_victories_data['A STL LG'].std()))\n",
    "print('Steals in the last game by the home team: {:.2f} (+/- {:.2f})'.format(home_victories_data['H STL LG'].mean(),\n",
    "                                                                             home_victories_data['H STL LG'].std()))\n",
    "print('Blocks in the last game by the away team: {:.2f} (+/- {:.2f})'.format(home_victories_data['A BLK LG'].mean(),\n",
    "                                                                             home_victories_data['A BLK LG'].std()))\n",
    "print('Blocks in the last game by the home team: {:.2f} (+/- {:.2f})'.format(home_victories_data['H BLK LG'].mean(),\n",
    "                                                                             home_victories_data['H BLK LG'].std()))"
   ]
  },
  {
   "cell_type": "code",
   "execution_count": 8,
   "metadata": {},
   "outputs": [
    {
     "name": "stdout",
     "output_type": "stream",
     "text": [
      "When the away team won:\n",
      "Field goals made in the last game by the away team: 37.04 (+/- 5.17)\n",
      "Field goals made in the last game by the home team: 36.47 (+/- 5.04)\n",
      "Three points made in the last game by the away team: 6.78 (+/- 3.29)\n",
      "Three points made in the last game by the home team: 6.40 (+/- 3.22)\n",
      "Free throws made in the last game by the away team: 18.53 (+/- 6.17)\n",
      "Free throws made in the last game by the home team: 18.21 (+/- 6.25)\n",
      "Rebounds in the last game by the away team: 42.18 (+/- 6.53)\n",
      "Rebounds in the last game by the home team: 41.79 (+/- 6.51)\n",
      "Assists in the last game by the away team: 21.72 (+/- 5.13)\n",
      "Assists in the last game by the home team: 21.03 (+/- 4.85)\n",
      "Turnovers in the last game by the away team: 13.70 (+/- 3.84)\n",
      "Turnovers in the last game by the home team: 13.87 (+/- 3.81)\n",
      "Steals in the last game by the away team: 7.59 (+/- 2.89)\n",
      "Steals in the last game by the home team: 7.40 (+/- 2.84)\n",
      "Blocks in the last game by the away team: 4.92 (+/- 2.58)\n",
      "Blocks in the last game by the home team: 4.79 (+/- 2.58)\n"
     ]
    }
   ],
   "source": [
    "print('When the away team won:')\n",
    "print('Field goals made in the last game by the away team: {:.2f} (+/- {:.2f})'.format(away_victories_data['A FGM LG'].mean(),\n",
    "                                                                                       away_victories_data['A FGM LG'].std()))\n",
    "print('Field goals made in the last game by the home team: {:.2f} (+/- {:.2f})'.format(away_victories_data['H FGM LG'].mean(),\n",
    "                                                                                       away_victories_data['H FGM LG'].std()))\n",
    "print('Three points made in the last game by the away team: {:.2f} (+/- {:.2f})'.format(away_victories_data['A 3PM LG'].mean(),\n",
    "                                                                                        away_victories_data['A 3PM LG'].std()))\n",
    "print('Three points made in the last game by the home team: {:.2f} (+/- {:.2f})'.format(away_victories_data['H 3PM LG'].mean(),\n",
    "                                                                                        away_victories_data['H 3PM LG'].std()))\n",
    "print('Free throws made in the last game by the away team: {:.2f} (+/- {:.2f})'.format(away_victories_data['A FTM LG'].mean(),\n",
    "                                                                                       away_victories_data['A FTM LG'].std()))\n",
    "print('Free throws made in the last game by the home team: {:.2f} (+/- {:.2f})'.format(away_victories_data['H FTM LG'].mean(),\n",
    "                                                                                       away_victories_data['H FTM LG'].std()))\n",
    "print('Rebounds in the last game by the away team: {:.2f} (+/- {:.2f})'.format(away_victories_data['A REB LG'].mean(), \n",
    "                                                                               away_victories_data['A REB LG'].std()))\n",
    "print('Rebounds in the last game by the home team: {:.2f} (+/- {:.2f})'.format(away_victories_data['H REB LG'].mean(),\n",
    "                                                                               away_victories_data['H REB LG'].std()))\n",
    "print('Assists in the last game by the away team: {:.2f} (+/- {:.2f})'.format(away_victories_data['A AST LG'].mean(),\n",
    "                                                                              away_victories_data['A AST LG'].std()))\n",
    "print('Assists in the last game by the home team: {:.2f} (+/- {:.2f})'.format(away_victories_data['H AST LG'].mean(),\n",
    "                                                                              away_victories_data['H AST LG'].std()))\n",
    "print('Turnovers in the last game by the away team: {:.2f} (+/- {:.2f})'.format(away_victories_data['A TOV LG'].mean(),\n",
    "                                                                                away_victories_data['A TOV LG'].std()))\n",
    "print('Turnovers in the last game by the home team: {:.2f} (+/- {:.2f})'.format(away_victories_data['H TOV LG'].mean(),\n",
    "                                                                                away_victories_data['H TOV LG'].std()))\n",
    "print('Steals in the last game by the away team: {:.2f} (+/- {:.2f})'.format(away_victories_data['A STL LG'].mean(),\n",
    "                                                                             away_victories_data['A STL LG'].std()))\n",
    "print('Steals in the last game by the home team: {:.2f} (+/- {:.2f})'.format(away_victories_data['H STL LG'].mean(),\n",
    "                                                                             away_victories_data['H STL LG'].std()))\n",
    "print('Blocks in the last game by the away team: {:.2f} (+/- {:.2f})'.format(away_victories_data['A BLK LG'].mean(),\n",
    "                                                                             away_victories_data['A BLK LG'].std()))\n",
    "print('Blocks in the last game by the home team: {:.2f} (+/- {:.2f})'.format(away_victories_data['H BLK LG'].mean(),\n",
    "                                                                             away_victories_data['H BLK LG'].std()))"
   ]
  },
  {
   "cell_type": "code",
   "execution_count": 9,
   "metadata": {},
   "outputs": [
    {
     "name": "stdout",
     "output_type": "stream",
     "text": [
      "When the home team won:\n",
      "FGM L2G by the away team: 36.65 (+/- 3.89)\n",
      "FGM L2G by the home team: 36.93 (+/- 3.92)\n",
      "3PM L2G by the away team: 6.44 (+/- 2.63)\n",
      "3PM L2G by the home team: 6.70 (+/- 2.69)\n",
      "FTM L2G by the away team: 18.41 (+/- 4.72)\n",
      "FTM L2G by the home team: 18.49 (+/- 4.68)\n",
      "REB L2G by the away team: 41.96 (+/- 4.78)\n",
      "REB L2G by the home team: 42.07 (+/- 4.82)\n",
      "AST L2G by the away team: 21.29 (+/- 3.83)\n",
      "AST L2G by the home team: 21.61 (+/- 3.89)\n",
      "TOV L2G by the away team: 13.82 (+/- 2.86)\n",
      "TOV L2G by the home team: 13.64 (+/- 2.84)\n",
      "STL L2G by the away team: 7.51 (+/- 2.14)\n",
      "STL L2G by the home team: 7.52 (+/- 2.17)\n",
      "BLK L2G by the away team: 4.81 (+/- 1.93)\n",
      "BLK L2G by the home team: 4.91 (+/- 1.92)\n"
     ]
    }
   ],
   "source": [
    "print('When the home team won:')\n",
    "print('FGM L2G by the away team: {:.2f} (+/- {:.2f})'.format(pd.to_numeric(home_victories_data['A FGM L2G']).mean(), \n",
    "                                                             pd.to_numeric(home_victories_data['A FGM L2G']).std()))\n",
    "print('FGM L2G by the home team: {:.2f} (+/- {:.2f})'.format(pd.to_numeric(home_victories_data['H FGM L2G']).mean(), \n",
    "                                                             pd.to_numeric(home_victories_data['H FGM L2G']).std()))\n",
    "print('3PM L2G by the away team: {:.2f} (+/- {:.2f})'.format(pd.to_numeric(home_victories_data['A 3PM L2G']).mean(), \n",
    "                                                             pd.to_numeric(home_victories_data['A 3PM L2G']).std()))\n",
    "print('3PM L2G by the home team: {:.2f} (+/- {:.2f})'.format(pd.to_numeric(home_victories_data['H 3PM L2G']).mean(), \n",
    "                                                             pd.to_numeric(home_victories_data['H 3PM L2G']).std()))\n",
    "print('FTM L2G by the away team: {:.2f} (+/- {:.2f})'.format(pd.to_numeric(home_victories_data['A FTM L2G']).mean(), \n",
    "                                                             pd.to_numeric(home_victories_data['A FTM L2G']).std()))\n",
    "print('FTM L2G by the home team: {:.2f} (+/- {:.2f})'.format(pd.to_numeric(home_victories_data['H FTM L2G']).mean(), \n",
    "                                                             pd.to_numeric(home_victories_data['H FTM L2G']).std()))\n",
    "print('REB L2G by the away team: {:.2f} (+/- {:.2f})'.format(pd.to_numeric(home_victories_data['A REB L2G']).mean(), \n",
    "                                                             pd.to_numeric(home_victories_data['A REB L2G']).std()))\n",
    "print('REB L2G by the home team: {:.2f} (+/- {:.2f})'.format(pd.to_numeric(home_victories_data['H REB L2G']).mean(), \n",
    "                                                             pd.to_numeric(home_victories_data['H REB L2G']).std()))\n",
    "print('AST L2G by the away team: {:.2f} (+/- {:.2f})'.format(pd.to_numeric(home_victories_data['A AST L2G']).mean(), \n",
    "                                                             pd.to_numeric(home_victories_data['A AST L2G']).std()))\n",
    "print('AST L2G by the home team: {:.2f} (+/- {:.2f})'.format(pd.to_numeric(home_victories_data['H AST L2G']).mean(), \n",
    "                                                             pd.to_numeric(home_victories_data['H AST L2G']).std()))\n",
    "print('TOV L2G by the away team: {:.2f} (+/- {:.2f})'.format(pd.to_numeric(home_victories_data['A TOV L2G']).mean(), \n",
    "                                                             pd.to_numeric(home_victories_data['A TOV L2G']).std()))\n",
    "print('TOV L2G by the home team: {:.2f} (+/- {:.2f})'.format(pd.to_numeric(home_victories_data['H TOV L2G']).mean(), \n",
    "                                                             pd.to_numeric(home_victories_data['H TOV L2G']).std()))\n",
    "print('STL L2G by the away team: {:.2f} (+/- {:.2f})'.format(pd.to_numeric(home_victories_data['A STL L2G']).mean(), \n",
    "                                                             pd.to_numeric(home_victories_data['A STL L2G']).std()))\n",
    "print('STL L2G by the home team: {:.2f} (+/- {:.2f})'.format(pd.to_numeric(home_victories_data['H STL L2G']).mean(), \n",
    "                                                             pd.to_numeric(home_victories_data['H STL L2G']).std()))\n",
    "print('BLK L2G by the away team: {:.2f} (+/- {:.2f})'.format(pd.to_numeric(home_victories_data['A BLK L2G']).mean(), \n",
    "                                                             pd.to_numeric(home_victories_data['A BLK L2G']).std()))\n",
    "print('BLK L2G by the home team: {:.2f} (+/- {:.2f})'.format(pd.to_numeric(home_victories_data['H BLK L2G']).mean(), \n",
    "                                                             pd.to_numeric(home_victories_data['H BLK L2G']).std()))"
   ]
  },
  {
   "cell_type": "code",
   "execution_count": 10,
   "metadata": {},
   "outputs": [
    {
     "name": "stdout",
     "output_type": "stream",
     "text": [
      "When the away team won:\n",
      "FGM L2G by the away team: 37.09 (+/- 3.95)\n",
      "FGM L2G by the home team: 36.43 (+/- 3.84)\n",
      "3PM L2G by the away team: 6.81 (+/- 2.71)\n",
      "3PM L2G by the home team: 6.39 (+/- 2.59)\n",
      "FTM L2G by the away team: 18.50 (+/- 4.66)\n",
      "FTM L2G by the home team: 18.21 (+/- 4.70)\n",
      "REB L2G by the away team: 42.25 (+/- 4.82)\n",
      "REB L2G by the home team: 41.74 (+/- 4.77)\n",
      "AST L2G by the away team: 21.74 (+/- 3.95)\n",
      "AST L2G by the home team: 21.03 (+/- 3.71)\n",
      "TOV L2G by the away team: 13.69 (+/- 2.83)\n",
      "TOV L2G by the home team: 13.89 (+/- 2.81)\n",
      "STL L2G by the away team: 7.58 (+/- 2.15)\n",
      "STL L2G by the home team: 7.41 (+/- 2.12)\n",
      "BLK L2G by the away team: 4.94 (+/- 1.95)\n",
      "BLK L2G by the home team: 4.77 (+/- 1.92)\n"
     ]
    }
   ],
   "source": [
    "print('When the away team won:')\n",
    "print('FGM L2G by the away team: {:.2f} (+/- {:.2f})'.format(pd.to_numeric(away_victories_data['A FGM L2G']).mean(), \n",
    "                                                             pd.to_numeric(away_victories_data['A FGM L2G']).std()))\n",
    "print('FGM L2G by the home team: {:.2f} (+/- {:.2f})'.format(pd.to_numeric(away_victories_data['H FGM L2G']).mean(), \n",
    "                                                             pd.to_numeric(away_victories_data['H FGM L2G']).std()))\n",
    "print('3PM L2G by the away team: {:.2f} (+/- {:.2f})'.format(pd.to_numeric(away_victories_data['A 3PM L2G']).mean(), \n",
    "                                                             pd.to_numeric(away_victories_data['A 3PM L2G']).std()))\n",
    "print('3PM L2G by the home team: {:.2f} (+/- {:.2f})'.format(pd.to_numeric(away_victories_data['H 3PM L2G']).mean(), \n",
    "                                                             pd.to_numeric(away_victories_data['H 3PM L2G']).std()))\n",
    "print('FTM L2G by the away team: {:.2f} (+/- {:.2f})'.format(pd.to_numeric(away_victories_data['A FTM L2G']).mean(), \n",
    "                                                             pd.to_numeric(away_victories_data['A FTM L2G']).std()))\n",
    "print('FTM L2G by the home team: {:.2f} (+/- {:.2f})'.format(pd.to_numeric(away_victories_data['H FTM L2G']).mean(), \n",
    "                                                             pd.to_numeric(away_victories_data['H FTM L2G']).std()))\n",
    "print('REB L2G by the away team: {:.2f} (+/- {:.2f})'.format(pd.to_numeric(away_victories_data['A REB L2G']).mean(), \n",
    "                                                             pd.to_numeric(away_victories_data['A REB L2G']).std()))\n",
    "print('REB L2G by the home team: {:.2f} (+/- {:.2f})'.format(pd.to_numeric(away_victories_data['H REB L2G']).mean(), \n",
    "                                                             pd.to_numeric(away_victories_data['H REB L2G']).std()))\n",
    "print('AST L2G by the away team: {:.2f} (+/- {:.2f})'.format(pd.to_numeric(away_victories_data['A AST L2G']).mean(), \n",
    "                                                             pd.to_numeric(away_victories_data['A AST L2G']).std()))\n",
    "print('AST L2G by the home team: {:.2f} (+/- {:.2f})'.format(pd.to_numeric(away_victories_data['H AST L2G']).mean(), \n",
    "                                                             pd.to_numeric(away_victories_data['H AST L2G']).std()))\n",
    "print('TOV L2G by the away team: {:.2f} (+/- {:.2f})'.format(pd.to_numeric(away_victories_data['A TOV L2G']).mean(), \n",
    "                                                             pd.to_numeric(away_victories_data['A TOV L2G']).std()))\n",
    "print('TOV L2G by the home team: {:.2f} (+/- {:.2f})'.format(pd.to_numeric(away_victories_data['H TOV L2G']).mean(), \n",
    "                                                             pd.to_numeric(away_victories_data['H TOV L2G']).std()))\n",
    "print('STL L2G by the away team: {:.2f} (+/- {:.2f})'.format(pd.to_numeric(away_victories_data['A STL L2G']).mean(), \n",
    "                                                             pd.to_numeric(away_victories_data['A STL L2G']).std()))\n",
    "print('STL L2G by the home team: {:.2f} (+/- {:.2f})'.format(pd.to_numeric(away_victories_data['H STL L2G']).mean(), \n",
    "                                                             pd.to_numeric(away_victories_data['H STL L2G']).std()))\n",
    "print('BLK L2G by the away team: {:.2f} (+/- {:.2f})'.format(pd.to_numeric(away_victories_data['A BLK L2G']).mean(), \n",
    "                                                             pd.to_numeric(away_victories_data['A BLK L2G']).std()))\n",
    "print('BLK L2G by the home team: {:.2f} (+/- {:.2f})'.format(pd.to_numeric(away_victories_data['H BLK L2G']).mean(), \n",
    "                                                             pd.to_numeric(away_victories_data['H BLK L2G']).std()))"
   ]
  },
  {
   "cell_type": "code",
   "execution_count": 11,
   "metadata": {
    "scrolled": true
   },
   "outputs": [
    {
     "name": "stdout",
     "output_type": "stream",
     "text": [
      "When the home team won:\n",
      "FGM L5G by the away team: 36.66 (+/- 2.87)\n",
      "FGM L5G by the home team: 36.94 (+/- 2.90)\n",
      "3PM L5G by the away team: 6.44 (+/- 2.20)\n",
      "3PM L5G by the home team: 6.69 (+/- 2.24)\n",
      "FTM L5G by the away team: 18.41 (+/- 3.42)\n",
      "FTM L5G by the home team: 18.51 (+/- 3.38)\n",
      "REB L5G by the away team: 41.99 (+/- 3.36)\n",
      "REB L5G by the home team: 42.12 (+/- 3.38)\n",
      "AST L5G by the away team: 21.28 (+/- 2.80)\n",
      "AST L5G by the home team: 21.62 (+/- 2.89)\n",
      "TOV L5G by the away team: 13.87 (+/- 2.05)\n",
      "TOV L5G by the home team: 13.69 (+/- 2.03)\n",
      "STL L5G by the away team: 7.49 (+/- 1.56)\n",
      "STL L5G by the home team: 7.55 (+/- 1.55)\n",
      "BLK L5G by the away team: 4.83 (+/- 1.39)\n",
      "BLK L5G by the home team: 4.93 (+/- 1.38)\n"
     ]
    }
   ],
   "source": [
    "print('When the home team won:')\n",
    "print('FGM L5G by the away team: {:.2f} (+/- {:.2f})'.format(pd.to_numeric(home_victories_data['A FGM L5G']).mean(), \n",
    "                                                             pd.to_numeric(home_victories_data['A FGM L5G']).std()))\n",
    "print('FGM L5G by the home team: {:.2f} (+/- {:.2f})'.format(pd.to_numeric(home_victories_data['H FGM L5G']).mean(), \n",
    "                                                             pd.to_numeric(home_victories_data['H FGM L5G']).std()))\n",
    "print('3PM L5G by the away team: {:.2f} (+/- {:.2f})'.format(pd.to_numeric(home_victories_data['A 3PM L5G']).mean(), \n",
    "                                                             pd.to_numeric(home_victories_data['A 3PM L5G']).std()))\n",
    "print('3PM L5G by the home team: {:.2f} (+/- {:.2f})'.format(pd.to_numeric(home_victories_data['H 3PM L5G']).mean(), \n",
    "                                                             pd.to_numeric(home_victories_data['H 3PM L5G']).std()))\n",
    "print('FTM L5G by the away team: {:.2f} (+/- {:.2f})'.format(pd.to_numeric(home_victories_data['A FTM L5G']).mean(), \n",
    "                                                             pd.to_numeric(home_victories_data['A FTM L5G']).std()))\n",
    "print('FTM L5G by the home team: {:.2f} (+/- {:.2f})'.format(pd.to_numeric(home_victories_data['H FTM L5G']).mean(), \n",
    "                                                             pd.to_numeric(home_victories_data['H FTM L5G']).std()))\n",
    "print('REB L5G by the away team: {:.2f} (+/- {:.2f})'.format(pd.to_numeric(home_victories_data['A REB L5G']).mean(), \n",
    "                                                             pd.to_numeric(home_victories_data['A REB L5G']).std()))\n",
    "print('REB L5G by the home team: {:.2f} (+/- {:.2f})'.format(pd.to_numeric(home_victories_data['H REB L5G']).mean(), \n",
    "                                                             pd.to_numeric(home_victories_data['H REB L5G']).std()))\n",
    "print('AST L5G by the away team: {:.2f} (+/- {:.2f})'.format(pd.to_numeric(home_victories_data['A AST L5G']).mean(), \n",
    "                                                             pd.to_numeric(home_victories_data['A AST L5G']).std()))\n",
    "print('AST L5G by the home team: {:.2f} (+/- {:.2f})'.format(pd.to_numeric(home_victories_data['H AST L5G']).mean(), \n",
    "                                                             pd.to_numeric(home_victories_data['H AST L5G']).std()))\n",
    "print('TOV L5G by the away team: {:.2f} (+/- {:.2f})'.format(pd.to_numeric(home_victories_data['A TOV L5G']).mean(), \n",
    "                                                             pd.to_numeric(home_victories_data['A TOV L5G']).std()))\n",
    "print('TOV L5G by the home team: {:.2f} (+/- {:.2f})'.format(pd.to_numeric(home_victories_data['H TOV L5G']).mean(), \n",
    "                                                             pd.to_numeric(home_victories_data['H TOV L5G']).std()))\n",
    "print('STL L5G by the away team: {:.2f} (+/- {:.2f})'.format(pd.to_numeric(home_victories_data['A STL L5G']).mean(), \n",
    "                                                             pd.to_numeric(home_victories_data['A STL L5G']).std()))\n",
    "print('STL L5G by the home team: {:.2f} (+/- {:.2f})'.format(pd.to_numeric(home_victories_data['H STL L5G']).mean(), \n",
    "                                                             pd.to_numeric(home_victories_data['H STL L5G']).std()))\n",
    "print('BLK L5G by the away team: {:.2f} (+/- {:.2f})'.format(pd.to_numeric(home_victories_data['A BLK L5G']).mean(), \n",
    "                                                             pd.to_numeric(home_victories_data['A BLK L5G']).std()))\n",
    "print('BLK L5G by the home team: {:.2f} (+/- {:.2f})'.format(pd.to_numeric(home_victories_data['H BLK L5G']).mean(), \n",
    "                                                             pd.to_numeric(home_victories_data['H BLK L5G']).std()))"
   ]
  },
  {
   "cell_type": "code",
   "execution_count": 12,
   "metadata": {},
   "outputs": [
    {
     "name": "stdout",
     "output_type": "stream",
     "text": [
      "When the away team won:\n",
      "FGM L5G by the away team: 37.03 (+/- 2.93)\n",
      "FGM L5G by the home team: 36.47 (+/- 2.83)\n",
      "3PM L5G by the away team: 6.81 (+/- 2.25)\n",
      "3PM L5G by the home team: 6.39 (+/- 2.16)\n",
      "FTM L5G by the away team: 18.50 (+/- 3.35)\n",
      "FTM L5G by the home team: 18.23 (+/- 3.34)\n",
      "REB L5G by the away team: 42.22 (+/- 3.38)\n",
      "REB L5G by the home team: 41.78 (+/- 3.35)\n",
      "AST L5G by the away team: 21.74 (+/- 2.94)\n",
      "AST L5G by the home team: 21.09 (+/- 2.76)\n",
      "TOV L5G by the away team: 13.67 (+/- 2.00)\n",
      "TOV L5G by the home team: 13.92 (+/- 2.01)\n",
      "STL L5G by the away team: 7.58 (+/- 1.53)\n",
      "STL L5G by the home team: 7.44 (+/- 1.53)\n",
      "BLK L5G by the away team: 4.94 (+/- 1.40)\n",
      "BLK L5G by the home team: 4.77 (+/- 1.40)\n"
     ]
    }
   ],
   "source": [
    "print('When the away team won:')\n",
    "print('FGM L5G by the away team: {:.2f} (+/- {:.2f})'.format(pd.to_numeric(away_victories_data['A FGM L5G']).mean(), \n",
    "                                                             pd.to_numeric(away_victories_data['A FGM L5G']).std()))\n",
    "print('FGM L5G by the home team: {:.2f} (+/- {:.2f})'.format(pd.to_numeric(away_victories_data['H FGM L5G']).mean(), \n",
    "                                                             pd.to_numeric(away_victories_data['H FGM L5G']).std()))\n",
    "print('3PM L5G by the away team: {:.2f} (+/- {:.2f})'.format(pd.to_numeric(away_victories_data['A 3PM L5G']).mean(), \n",
    "                                                             pd.to_numeric(away_victories_data['A 3PM L5G']).std()))\n",
    "print('3PM L5G by the home team: {:.2f} (+/- {:.2f})'.format(pd.to_numeric(away_victories_data['H 3PM L5G']).mean(), \n",
    "                                                             pd.to_numeric(away_victories_data['H 3PM L5G']).std()))\n",
    "print('FTM L5G by the away team: {:.2f} (+/- {:.2f})'.format(pd.to_numeric(away_victories_data['A FTM L5G']).mean(), \n",
    "                                                             pd.to_numeric(away_victories_data['A FTM L5G']).std()))\n",
    "print('FTM L5G by the home team: {:.2f} (+/- {:.2f})'.format(pd.to_numeric(away_victories_data['H FTM L5G']).mean(), \n",
    "                                                             pd.to_numeric(away_victories_data['H FTM L5G']).std()))\n",
    "print('REB L5G by the away team: {:.2f} (+/- {:.2f})'.format(pd.to_numeric(away_victories_data['A REB L5G']).mean(), \n",
    "                                                             pd.to_numeric(away_victories_data['A REB L5G']).std()))\n",
    "print('REB L5G by the home team: {:.2f} (+/- {:.2f})'.format(pd.to_numeric(away_victories_data['H REB L5G']).mean(), \n",
    "                                                             pd.to_numeric(away_victories_data['H REB L5G']).std()))\n",
    "print('AST L5G by the away team: {:.2f} (+/- {:.2f})'.format(pd.to_numeric(away_victories_data['A AST L5G']).mean(), \n",
    "                                                             pd.to_numeric(away_victories_data['A AST L5G']).std()))\n",
    "print('AST L5G by the home team: {:.2f} (+/- {:.2f})'.format(pd.to_numeric(away_victories_data['H AST L5G']).mean(), \n",
    "                                                             pd.to_numeric(away_victories_data['H AST L5G']).std()))\n",
    "print('TOV L5G by the away team: {:.2f} (+/- {:.2f})'.format(pd.to_numeric(away_victories_data['A TOV L5G']).mean(), \n",
    "                                                             pd.to_numeric(away_victories_data['A TOV L5G']).std()))\n",
    "print('TOV L5G by the home team: {:.2f} (+/- {:.2f})'.format(pd.to_numeric(away_victories_data['H TOV L5G']).mean(), \n",
    "                                                             pd.to_numeric(away_victories_data['H TOV L5G']).std()))\n",
    "print('STL L5G by the away team: {:.2f} (+/- {:.2f})'.format(pd.to_numeric(away_victories_data['A STL L5G']).mean(), \n",
    "                                                             pd.to_numeric(away_victories_data['A STL L5G']).std()))\n",
    "print('STL L5G by the home team: {:.2f} (+/- {:.2f})'.format(pd.to_numeric(away_victories_data['H STL L5G']).mean(), \n",
    "                                                             pd.to_numeric(away_victories_data['H STL L5G']).std()))\n",
    "print('BLK L5G by the away team: {:.2f} (+/- {:.2f})'.format(pd.to_numeric(away_victories_data['A BLK L5G']).mean(), \n",
    "                                                             pd.to_numeric(away_victories_data['A BLK L5G']).std()))\n",
    "print('BLK L5G by the home team: {:.2f} (+/- {:.2f})'.format(pd.to_numeric(away_victories_data['H BLK L5G']).mean(), \n",
    "                                                             pd.to_numeric(away_victories_data['H BLK L5G']).std()))"
   ]
  }
 ],
 "metadata": {
  "kernelspec": {
   "display_name": "Python 3",
   "language": "python",
   "name": "python3"
  },
  "language_info": {
   "codemirror_mode": {
    "name": "ipython",
    "version": 3
   },
   "file_extension": ".py",
   "mimetype": "text/x-python",
   "name": "python",
   "nbconvert_exporter": "python",
   "pygments_lexer": "ipython3",
   "version": "3.6.4"
  }
 },
 "nbformat": 4,
 "nbformat_minor": 2
}
