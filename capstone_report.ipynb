{
 "cells": [
  {
   "cell_type": "markdown",
   "metadata": {},
   "source": [
    "# Using Machine Learning to Predict NBA Games Winners\n",
    "\n",
    "This jupyter notebook is an auxiliar material to my capstone project report in the Udacity's Machine Learning Engineer Nanodegree. The PDF file can be found in my GitHub repository:\n",
    "\n",
    "* https://github.com/vilacham/capstone_report"
   ]
  },
  {
   "cell_type": "markdown",
   "metadata": {},
   "source": [
    "---\n",
    "## Importing data\n",
    "\n",
    "As a first step, I will import the datasets and create a copy of both of them to work on:"
   ]
  },
  {
   "cell_type": "code",
   "execution_count": 1,
   "metadata": {},
   "outputs": [
    {
     "name": "stdout",
     "output_type": "stream",
     "text": [
      "Dataset was successfully imported and has 36154 samples with 96 features each.\n",
      "2016-2017 dataset was successfully imported and has 2460 samples with 96 features each.\n"
     ]
    }
   ],
   "source": [
    "# Import pandas\n",
    "import pandas as pd\n",
    "\n",
    "# Import dataset and create a copy of it\n",
    "try:\n",
    "    original_data = pd.read_excel('capstone_database.xlsx')\n",
    "    data = original_data\n",
    "    print('Dataset was successfully imported and has {} samples with {} features each.'.format(*data.shape))\n",
    "except:\n",
    "    print('Dataset could not be loaded. Is it missing?')\n",
    "\n",
    "# Import dataset from 2016-2017 regular season and create a copy of it\n",
    "try:\n",
    "    original_data_2016_2017 = pd.read_excel('capstone_database_2016_2017.xlsx')\n",
    "    data_2016_2017 = original_data_2016_2017\n",
    "    print('2016-2017 dataset was successfully imported and has {} samples with {} features each.'.format(*data_2016_2017.shape))\n",
    "except:\n",
    "    print('2016-2017 dataset could not be loaded. Is it missing?')"
   ]
  },
  {
   "cell_type": "markdown",
   "metadata": {},
   "source": [
    "---\n",
    "## Importing functions and modules\n",
    "In order to make the reading of this jupyter notebook easier, I opted for writing functions and modules with more extense line codes in separated Python files: `functions.py`, `best_streak_classifier` and `majority_vote`."
   ]
  },
  {
   "cell_type": "markdown",
   "metadata": {},
   "source": [
    "The first file, `functions.py`, can be found in https://github.com/vilacham/capstone_report/blob/master/functions.py and contains the following functions:\n",
    "* `preprocess`, which I will use to preprocess data (rename its columns, drop NaNs, deal with categorical data, create label column, drop unnecessary columns and convert all features to numerical data);\n",
    "* `get_frequent_outliers`, which I will use to identify and drop samples that are outliers for more than one feature;\n",
    "* `standardize`, which I will use to normalize features in my dataset;\n",
    "* `divide_data`, which I will use to divide my dataset in three (last game data, last two games data and last five games data);\n",
    "* `get_n_principal_components`, which I will use to find the *n* principal components to reduce my dataset (I aim to use those principal components that explain at least 60% of the variance);\n",
    "* `plot_pca_graph`, which I will use to ploat a graph with the explained variance ratios of the principal components and the cumulative sum of these;\n",
    "* `reduce`, which will reduce my dataset;\n",
    "* `create_classifiers`, which will create a list containing some of the classifiers (with default parameters) that I will use in the project;\n",
    "* `optimize_classifiers`, which will optimize some of the parameters of the classifiers using Grid Search technique."
   ]
  },
  {
   "cell_type": "markdown",
   "metadata": {},
   "source": [
    "The second file, `best_streak_classifier.py`, can be found in https://github.com/vilacham/capstone_report/blob/master/best_streak_classifier.py and is a class that contains code to predict a winner based only on the streak features of the home team and the visitor team: the team with the highest streak wins is predicted as the winner, and in the case of tie, the home team is predicted as the winner."
   ]
  },
  {
   "cell_type": "markdown",
   "metadata": {},
   "source": [
    "The third file, `majority_vote.py`, can be found in https://github.com/vilacham/capstone_report/blob/master/majority_vote.py and is a class that contains code to predict a winner based on the majority vote of the following classifiers:\n",
    "* Logistic Regression;\n",
    "* Decision Tree;\n",
    "* K Nearest Neighbors;\n",
    "* Gaussian NB; and\n",
    "* Multi-Layer Perceptron;"
   ]
  },
  {
   "cell_type": "code",
   "execution_count": 2,
   "metadata": {},
   "outputs": [],
   "source": [
    "import functions as f\n",
    "from majority_vote import MajorityVoteClassifier\n",
    "from best_streak_classifier import BestStreakClassifier"
   ]
  },
  {
   "cell_type": "markdown",
   "metadata": {},
   "source": [
    "---\n",
    "## Data preprocessing\n",
    "\n",
    "Now that I have a copy of the dataset, my next steps are: \n",
    "* rename its columns;\n",
    "* remove NaNs;\n",
    "* deal with categorical data;\n",
    "* create the label column; and\n",
    "* drop unnecessary columns."
   ]
  },
  {
   "cell_type": "code",
   "execution_count": 3,
   "metadata": {},
   "outputs": [],
   "source": [
    "data = f.preprocess(data)\n",
    "data_2016_2017 = f.preprocess(data_2016_2017)"
   ]
  },
  {
   "cell_type": "markdown",
   "metadata": {},
   "source": [
    "Below, I will separate the labeled column from the features in the 2016-2017 regular season dataset:"
   ]
  },
  {
   "cell_type": "code",
   "execution_count": 4,
   "metadata": {},
   "outputs": [],
   "source": [
    "X_2016_2017, y_2016_2017 = data_2016_2017.iloc[:, :-1], data_2016_2017.iloc[:, -1]"
   ]
  },
  {
   "cell_type": "markdown",
   "metadata": {},
   "source": [
    "Because the 2016-2017 regular season dataset does not contain games that occurred in the months 5 and 6, I will create the columns 'MTH_5' and 'MTH_6' and insert them in the dataset. This is crucial for the dimensonality reduction that will occur ahead. The code cell below creates the new features columns and transform the database:"
   ]
  },
  {
   "cell_type": "code",
   "execution_count": 5,
   "metadata": {},
   "outputs": [],
   "source": [
    "# Create columns\n",
    "X_2016_2017['MTH_5'] = 0\n",
    "X_2016_2017['MTH_6'] = 0\n",
    "\n",
    "# Put them in the dataset\n",
    "cols = X_2016_2017.columns.tolist()\n",
    "cols = cols[:-4] + cols[-2:] + cols[-4:-2]\n",
    "X_2016_2017 = X_2016_2017[cols]"
   ]
  },
  {
   "cell_type": "markdown",
   "metadata": {},
   "source": [
    "Below, I will remove all the outliers in the dataset:"
   ]
  },
  {
   "cell_type": "code",
   "execution_count": 6,
   "metadata": {},
   "outputs": [
    {
     "name": "stdout",
     "output_type": "stream",
     "text": [
      "3214 outliers for more than one feature.\n",
      "Original data had 16926 samples.\n",
      "Good data has 13712 samples.\n",
      "2016-2017 data has 1151 samples\n"
     ]
    }
   ],
   "source": [
    "outliers = f.get_frequent_outliers(data)\n",
    "good_data = data.drop(data.index[outliers]).reset_index(drop=True)\n",
    "print('{} outliers for more than one feature.'.format(len(outliers)))\n",
    "print('Original data had {} samples.'.format(data.shape[0]))\n",
    "print('Good data has {} samples.'.format(good_data.shape[0]))\n",
    "print('2016-2017 data has {} samples'.format(data_2016_2017.shape[0]))"
   ]
  },
  {
   "cell_type": "markdown",
   "metadata": {},
   "source": [
    "Below I will check the first lines of `good_data`:"
   ]
  },
  {
   "cell_type": "code",
   "execution_count": 7,
   "metadata": {},
   "outputs": [
    {
     "data": {
      "text/html": [
       "<div>\n",
       "<style>\n",
       "    .dataframe thead tr:only-child th {\n",
       "        text-align: right;\n",
       "    }\n",
       "\n",
       "    .dataframe thead th {\n",
       "        text-align: left;\n",
       "    }\n",
       "\n",
       "    .dataframe tbody tr th {\n",
       "        vertical-align: top;\n",
       "    }\n",
       "</style>\n",
       "<table border=\"1\" class=\"dataframe\">\n",
       "  <thead>\n",
       "    <tr style=\"text-align: right;\">\n",
       "      <th></th>\n",
       "      <th>A STK</th>\n",
       "      <th>H STK</th>\n",
       "      <th>A PTS LG</th>\n",
       "      <th>A FGM LG</th>\n",
       "      <th>A FGA LG</th>\n",
       "      <th>A 3PM LG</th>\n",
       "      <th>A 3PA LG</th>\n",
       "      <th>A FTM LG</th>\n",
       "      <th>A FTA LG</th>\n",
       "      <th>A OREB LG</th>\n",
       "      <th>...</th>\n",
       "      <th>DAY_Wednesday</th>\n",
       "      <th>MTH_1</th>\n",
       "      <th>MTH_2</th>\n",
       "      <th>MTH_3</th>\n",
       "      <th>MTH_4</th>\n",
       "      <th>MTH_5</th>\n",
       "      <th>MTH_6</th>\n",
       "      <th>MTH_11</th>\n",
       "      <th>MTH_12</th>\n",
       "      <th>WINNER</th>\n",
       "    </tr>\n",
       "  </thead>\n",
       "  <tbody>\n",
       "    <tr>\n",
       "      <th>0</th>\n",
       "      <td>-5</td>\n",
       "      <td>-3</td>\n",
       "      <td>88.0</td>\n",
       "      <td>35.0</td>\n",
       "      <td>80.0</td>\n",
       "      <td>5.0</td>\n",
       "      <td>15.0</td>\n",
       "      <td>13.0</td>\n",
       "      <td>16.0</td>\n",
       "      <td>13.0</td>\n",
       "      <td>...</td>\n",
       "      <td>0</td>\n",
       "      <td>0</td>\n",
       "      <td>0</td>\n",
       "      <td>0</td>\n",
       "      <td>0</td>\n",
       "      <td>0</td>\n",
       "      <td>0</td>\n",
       "      <td>1</td>\n",
       "      <td>0</td>\n",
       "      <td>1</td>\n",
       "    </tr>\n",
       "    <tr>\n",
       "      <th>1</th>\n",
       "      <td>-1</td>\n",
       "      <td>2</td>\n",
       "      <td>84.0</td>\n",
       "      <td>34.0</td>\n",
       "      <td>76.0</td>\n",
       "      <td>1.0</td>\n",
       "      <td>12.0</td>\n",
       "      <td>15.0</td>\n",
       "      <td>19.0</td>\n",
       "      <td>11.0</td>\n",
       "      <td>...</td>\n",
       "      <td>0</td>\n",
       "      <td>0</td>\n",
       "      <td>0</td>\n",
       "      <td>0</td>\n",
       "      <td>0</td>\n",
       "      <td>0</td>\n",
       "      <td>0</td>\n",
       "      <td>1</td>\n",
       "      <td>0</td>\n",
       "      <td>1</td>\n",
       "    </tr>\n",
       "    <tr>\n",
       "      <th>2</th>\n",
       "      <td>1</td>\n",
       "      <td>1</td>\n",
       "      <td>94.0</td>\n",
       "      <td>40.0</td>\n",
       "      <td>80.0</td>\n",
       "      <td>1.0</td>\n",
       "      <td>7.0</td>\n",
       "      <td>13.0</td>\n",
       "      <td>19.0</td>\n",
       "      <td>15.0</td>\n",
       "      <td>...</td>\n",
       "      <td>0</td>\n",
       "      <td>0</td>\n",
       "      <td>0</td>\n",
       "      <td>0</td>\n",
       "      <td>0</td>\n",
       "      <td>0</td>\n",
       "      <td>0</td>\n",
       "      <td>1</td>\n",
       "      <td>0</td>\n",
       "      <td>1</td>\n",
       "    </tr>\n",
       "    <tr>\n",
       "      <th>3</th>\n",
       "      <td>-2</td>\n",
       "      <td>1</td>\n",
       "      <td>95.0</td>\n",
       "      <td>38.0</td>\n",
       "      <td>96.0</td>\n",
       "      <td>4.0</td>\n",
       "      <td>23.0</td>\n",
       "      <td>17.0</td>\n",
       "      <td>18.0</td>\n",
       "      <td>13.0</td>\n",
       "      <td>...</td>\n",
       "      <td>0</td>\n",
       "      <td>0</td>\n",
       "      <td>0</td>\n",
       "      <td>0</td>\n",
       "      <td>0</td>\n",
       "      <td>0</td>\n",
       "      <td>0</td>\n",
       "      <td>1</td>\n",
       "      <td>0</td>\n",
       "      <td>1</td>\n",
       "    </tr>\n",
       "    <tr>\n",
       "      <th>4</th>\n",
       "      <td>1</td>\n",
       "      <td>-4</td>\n",
       "      <td>106.0</td>\n",
       "      <td>43.0</td>\n",
       "      <td>80.0</td>\n",
       "      <td>3.0</td>\n",
       "      <td>8.0</td>\n",
       "      <td>17.0</td>\n",
       "      <td>25.0</td>\n",
       "      <td>8.0</td>\n",
       "      <td>...</td>\n",
       "      <td>0</td>\n",
       "      <td>0</td>\n",
       "      <td>0</td>\n",
       "      <td>0</td>\n",
       "      <td>0</td>\n",
       "      <td>0</td>\n",
       "      <td>0</td>\n",
       "      <td>1</td>\n",
       "      <td>0</td>\n",
       "      <td>1</td>\n",
       "    </tr>\n",
       "  </tbody>\n",
       "</table>\n",
       "<p>5 rows × 104 columns</p>\n",
       "</div>"
      ],
      "text/plain": [
       "   A STK  H STK  A PTS LG  A FGM LG  A FGA LG  A 3PM LG  A 3PA LG  A FTM LG  \\\n",
       "0     -5     -3      88.0      35.0      80.0       5.0      15.0      13.0   \n",
       "1     -1      2      84.0      34.0      76.0       1.0      12.0      15.0   \n",
       "2      1      1      94.0      40.0      80.0       1.0       7.0      13.0   \n",
       "3     -2      1      95.0      38.0      96.0       4.0      23.0      17.0   \n",
       "4      1     -4     106.0      43.0      80.0       3.0       8.0      17.0   \n",
       "\n",
       "   A FTA LG  A OREB LG   ...    DAY_Wednesday  MTH_1  MTH_2  MTH_3  MTH_4  \\\n",
       "0      16.0       13.0   ...                0      0      0      0      0   \n",
       "1      19.0       11.0   ...                0      0      0      0      0   \n",
       "2      19.0       15.0   ...                0      0      0      0      0   \n",
       "3      18.0       13.0   ...                0      0      0      0      0   \n",
       "4      25.0        8.0   ...                0      0      0      0      0   \n",
       "\n",
       "   MTH_5  MTH_6  MTH_11  MTH_12  WINNER  \n",
       "0      0      0       1       0       1  \n",
       "1      0      0       1       0       1  \n",
       "2      0      0       1       0       1  \n",
       "3      0      0       1       0       1  \n",
       "4      0      0       1       0       1  \n",
       "\n",
       "[5 rows x 104 columns]"
      ]
     },
     "execution_count": 7,
     "metadata": {},
     "output_type": "execute_result"
    }
   ],
   "source": [
    "good_data.head()"
   ]
  },
  {
   "cell_type": "markdown",
   "metadata": {},
   "source": [
    "In the next code cell, I will split the dataset into training and testing sets:"
   ]
  },
  {
   "cell_type": "code",
   "execution_count": 8,
   "metadata": {},
   "outputs": [],
   "source": [
    "# import train_test_split\n",
    "from sklearn.model_selection import train_test_split\n",
    "\n",
    "# Split dataset\n",
    "X, y = good_data.iloc[:, :-1], good_data.iloc[:, -1]\n",
    "X_train, X_test, y_train, y_test = train_test_split(X, y, test_size=0.3, random_state=42, stratify=y)"
   ]
  },
  {
   "cell_type": "markdown",
   "metadata": {},
   "source": [
    "In the following code cell, I will standardize all the continuous variables in the training set:"
   ]
  },
  {
   "cell_type": "code",
   "execution_count": 9,
   "metadata": {},
   "outputs": [],
   "source": [
    "X_train, X_test, X_2016_2017 = f.standardize(X_train, X_test, X_2016_2017)"
   ]
  },
  {
   "cell_type": "markdown",
   "metadata": {},
   "source": [
    "Below, I will split the dataset into three:\n",
    "* one with last game stats;\n",
    "* one with the average of the last two games stats; and\n",
    "* one with the average of the last five games stats."
   ]
  },
  {
   "cell_type": "code",
   "execution_count": 10,
   "metadata": {},
   "outputs": [],
   "source": [
    "train_lg, train_l2g, train_l5g = f.divide_data(X_train)\n",
    "test_lg, test_l2g, test_l5g = f.divide_data(X_test)\n",
    "X_2016_2017_lg, X_2016_2017_l2g, X_2016_2017_l5g = f.divide_data(X_2016_2017)"
   ]
  },
  {
   "cell_type": "markdown",
   "metadata": {},
   "source": [
    "---\n",
    "## Data exploration\n",
    "I have explored the dataset in another notebook, which is located in the same directory as this one and is called \"exploration\"."
   ]
  },
  {
   "cell_type": "markdown",
   "metadata": {},
   "source": [
    "---\n",
    "## Last game"
   ]
  },
  {
   "cell_type": "code",
   "execution_count": 11,
   "metadata": {
    "scrolled": true
   },
   "outputs": [
    {
     "data": {
      "text/plain": [
       "<matplotlib.figure.Figure at 0x2cc74bbb2e8>"
      ]
     },
     "metadata": {},
     "output_type": "display_data"
    },
    {
     "name": "stdout",
     "output_type": "stream",
     "text": [
      "Number of components: 6\n"
     ]
    }
   ],
   "source": [
    "n_comp_lg = f.get_n_principal_components(train_lg, 0.6)\n",
    "print('Number of components: {}'.format(n_comp_lg))"
   ]
  },
  {
   "cell_type": "markdown",
   "metadata": {},
   "source": [
    "The code cell below will reduce the following datasets:\n",
    "* train_lg;\n",
    "* test_lg; and\n",
    "* X_2016_2017_lg."
   ]
  },
  {
   "cell_type": "code",
   "execution_count": 12,
   "metadata": {},
   "outputs": [],
   "source": [
    "train_lg_reduced, test_lg_reduced, X_2016_2017_lg_reduced = f.reduce(train_lg, test_lg, X_2016_2017_lg, n_comp_lg)"
   ]
  },
  {
   "cell_type": "markdown",
   "metadata": {},
   "source": [
    "---\n",
    "## Last two games"
   ]
  },
  {
   "cell_type": "code",
   "execution_count": 13,
   "metadata": {
    "scrolled": false
   },
   "outputs": [
    {
     "data": {
      "image/png": "[encoded data removed]",
      "text/plain": [
       "<matplotlib.figure.Figure at 0x2cc776c97f0>"
      ]
     },
     "metadata": {},
     "output_type": "display_data"
    },
    {
     "name": "stdout",
     "output_type": "stream",
     "text": [
      "Number of components: 6\n"
     ]
    }
   ],
   "source": [
    "n_comp_l2g = f.get_n_principal_components(train_l2g, 0.6)\n",
    "print('Number of components: {}'.format(n_comp_l2g))"
   ]
  },
  {
   "cell_type": "markdown",
   "metadata": {},
   "source": [
    "The code cell below will reduce the following datasets:\n",
    "* train_l2g;\n",
    "* test_l2g; and\n",
    "* X_2016_2017_l2g."
   ]
  },
  {
   "cell_type": "code",
   "execution_count": 14,
   "metadata": {},
   "outputs": [],
   "source": [
    "train_l2g_reduced, test_l2g_reduced, X_2016_2017_l2g_reduced = f.reduce(train_l2g, test_l2g, X_2016_2017_l2g, n_comp_l2g)"
   ]
  },
  {
   "cell_type": "markdown",
   "metadata": {},
   "source": [
    "---\n",
    "## Last five games"
   ]
  },
  {
   "cell_type": "code",
   "execution_count": 15,
   "metadata": {
    "scrolled": false
   },
   "outputs": [
    {
     "data": {
      "image/png": "[encoded data removed]",
      "text/plain": [
       "<matplotlib.figure.Figure at 0x2cc03378f28>"
      ]
     },
     "metadata": {},
     "output_type": "display_data"
    },
    {
     "name": "stdout",
     "output_type": "stream",
     "text": [
      "Number of components: 6\n"
     ]
    }
   ],
   "source": [
    "n_comp_l5g = f.get_n_principal_components(train_l5g, 0.6)\n",
    "print('Number of components: {}'.format(n_comp_l5g))"
   ]
  },
  {
   "cell_type": "markdown",
   "metadata": {},
   "source": [
    "The code cell below will reduce the following datasets:\n",
    "* train_l5g;\n",
    "* test_l5g; and\n",
    "* X_2016_2017_l5g."
   ]
  },
  {
   "cell_type": "code",
   "execution_count": 16,
   "metadata": {},
   "outputs": [],
   "source": [
    "train_l5g_reduced, test_l5g_reduced, X_2016_2017_l5g_reduced = f.reduce(train_l5g, test_l5g, X_2016_2017_l5g, n_comp_l5g)"
   ]
  },
  {
   "cell_type": "markdown",
   "metadata": {},
   "source": [
    "---\n",
    "# Best Streak Classifier\n",
    "In the code cells below, I will check the accuracy and the confusion matrix of the best streak classifier:"
   ]
  },
  {
   "cell_type": "code",
   "execution_count": 17,
   "metadata": {},
   "outputs": [
    {
     "name": "stdout",
     "output_type": "stream",
     "text": [
      "Best Streak Classifier score in 2016-2017 dataset: 0.552\n"
     ]
    }
   ],
   "source": [
    "bsc_2016_2017 = BestStreakClassifier(data_2016_2017['H STK'].values, data_2016_2017['A STK'].values)\n",
    "print('Best Streak Classifier score in 2016-2017 dataset: {:.3f}'.format(bsc_2016_2017.score(data_2016_2017.iloc[:, -1])))"
   ]
  },
  {
   "cell_type": "code",
   "execution_count": 18,
   "metadata": {
    "scrolled": true
   },
   "outputs": [
    {
     "data": {
      "image/png": "[encoded data removed]",
      "text/plain": [
       "<matplotlib.figure.Figure at 0x2cc77524b00>"
      ]
     },
     "metadata": {},
     "output_type": "display_data"
    }
   ],
   "source": [
    "from sklearn.metrics import confusion_matrix\n",
    "\n",
    "bsc_predictions = bsc_2016_2017.predict()\n",
    "cm_bsc = confusion_matrix(y_2016_2017, bsc_predictions)\n",
    "f.plot_confusion_matrix(cm_bsc, False, 'Best Streak Classifier')"
   ]
  },
  {
   "cell_type": "markdown",
   "metadata": {},
   "source": [
    "---\n",
    "## Logistic Regression Classifier\n",
    "In the code cells below, I will train and test a logistic regression classifier (untouched and untuned) to serve as a benchmark model for each of the data sets."
   ]
  },
  {
   "cell_type": "code",
   "execution_count": 19,
   "metadata": {},
   "outputs": [],
   "source": [
    "# Import\n",
    "from sklearn.linear_model import LogisticRegression\n",
    "\n",
    "# Create one classifier for each of the datasets\n",
    "lr_lg = LogisticRegression(random_state=42)\n",
    "lr_l2g = LogisticRegression(random_state=42)\n",
    "lr_l5g = LogisticRegression(random_state=42)"
   ]
  },
  {
   "cell_type": "markdown",
   "metadata": {},
   "source": [
    "Below, I will train lr_lg in the last game dataset and check its accuracy and confusion matrix in the 2016-2017 regular season dataset:"
   ]
  },
  {
   "cell_type": "code",
   "execution_count": 20,
   "metadata": {},
   "outputs": [
    {
     "name": "stdout",
     "output_type": "stream",
     "text": [
      "Logistic regression score in the 2016-2017 dataset (trained with the last game dataset): 0.591\n"
     ]
    }
   ],
   "source": [
    "lr_lg.fit(train_lg_reduced, y_train)\n",
    "\n",
    "lr_lg_score = lr_lg.score(X_2016_2017_lg_reduced, y_2016_2017)\n",
    "\n",
    "print('Logistic regression score in the 2016-2017 dataset (trained with the last game dataset): {:.3f}'.format(lr_lg_score))"
   ]
  },
  {
   "cell_type": "code",
   "execution_count": 39,
   "metadata": {},
   "outputs": [
    {
     "data": {
      "image/png": "[encoded data removed]",
      "text/plain": [
       "<matplotlib.figure.Figure at 0x2cc03a478d0>"
      ]
     },
     "metadata": {},
     "output_type": "display_data"
    }
   ],
   "source": [
    "from sklearn.metrics import confusion_matrix\n",
    "\n",
    "lr_lg_predictions = lr_lg.predict(X_2016_2017_lg_reduced)\n",
    "cm_lr_lg = confusion_matrix(y_2016_2017, lr_lg_predictions)\n",
    "\n",
    "f.plot_confusion_matrix(cm_lr_lg, False, 'Logistic Regression Classifier (trained with last game dataset)')"
   ]
  },
  {
   "cell_type": "markdown",
   "metadata": {},
   "source": [
    "Below, I will train lr_l2g in the last two games dataset and check its accuracy and confusion matrix in the 2016-2017 regular season dataset:"
   ]
  },
  {
   "cell_type": "code",
   "execution_count": 22,
   "metadata": {},
   "outputs": [
    {
     "name": "stdout",
     "output_type": "stream",
     "text": [
      "Logistic regression score in the 2016-2017 dataset (trained with the last two games dataset): 0.590\n"
     ]
    }
   ],
   "source": [
    "lr_l2g.fit(train_l2g_reduced, y_train)\n",
    "\n",
    "lr_l2g_score = lr_l2g.score(X_2016_2017_l2g_reduced, y_2016_2017)\n",
    "\n",
    "print('Logistic regression score in the 2016-2017 dataset (trained with the last two games dataset): {:.3f}'.format(lr_l2g_score))"
   ]
  },
  {
   "cell_type": "code",
   "execution_count": 23,
   "metadata": {},
   "outputs": [
    {
     "data": {
      "image/png": "[encoded data removed]",
      "text/plain": [
       "<matplotlib.figure.Figure at 0x2cc036e77b8>"
      ]
     },
     "metadata": {},
     "output_type": "display_data"
    }
   ],
   "source": [
    "lr_l2g_predictions = lr_l2g.predict(X_2016_2017_l2g_reduced)\n",
    "cm_lr_l2g = confusion_matrix(y_2016_2017, lr_l2g_predictions)\n",
    "\n",
    "f.plot_confusion_matrix(cm_lr_l2g, False, 'Logistic Regression Classifier (trained with last two games dataset)')"
   ]
  },
  {
   "cell_type": "markdown",
   "metadata": {},
   "source": [
    "Below, I will train lr_l5g in the last five games dataset and check its accuracy and confusion matrix in the 2016-2017 regular season dataset:"
   ]
  },
  {
   "cell_type": "code",
   "execution_count": 24,
   "metadata": {},
   "outputs": [
    {
     "name": "stdout",
     "output_type": "stream",
     "text": [
      "Logistic regression score in the 2016-2017 dataset (trained with the last five games dataset): 0.594\n"
     ]
    }
   ],
   "source": [
    "lr_l5g.fit(train_l5g_reduced, y_train)\n",
    "\n",
    "lr_l5g_score = lr_l5g.score(X_2016_2017_l5g_reduced, y_2016_2017)\n",
    "\n",
    "print('Logistic regression score in the 2016-2017 dataset (trained with the last five games dataset): {:.3f}'.format(lr_l5g_score))"
   ]
  },
  {
   "cell_type": "code",
   "execution_count": 25,
   "metadata": {},
   "outputs": [
    {
     "data": {
      "image/png": "[encoded data removed]",
      "text/plain": [
       "<matplotlib.figure.Figure at 0x2cc034c0c50>"
      ]
     },
     "metadata": {},
     "output_type": "display_data"
    }
   ],
   "source": [
    "lr_l5g_predictions = lr_l5g.predict(X_2016_2017_l5g_reduced)\n",
    "cm_lr_l5g = confusion_matrix(y_2016_2017, lr_l5g_predictions)\n",
    "\n",
    "f.plot_confusion_matrix(cm_lr_l5g, False, 'Logistic Regression Classifier (trained with last five games dataset)')"
   ]
  },
  {
   "cell_type": "markdown",
   "metadata": {},
   "source": [
    "---\n",
    "## Create and optimize classifiers\n",
    "In the code cells below, I will create and optimize the list of classifiers used in the majority vote classifier."
   ]
  },
  {
   "cell_type": "code",
   "execution_count": 26,
   "metadata": {
    "scrolled": false
   },
   "outputs": [
    {
     "name": "stdout",
     "output_type": "stream",
     "text": [
      "LogisticRegression(C=1.0, class_weight=None, dual=False, fit_intercept=True,\n",
      "          intercept_scaling=1, max_iter=100, multi_class='ovr', n_jobs=1,\n",
      "          penalty='l2', random_state=42, solver='liblinear', tol=0.0001,\n",
      "          verbose=0, warm_start=False)\n",
      "DecisionTreeClassifier(class_weight=None, criterion='gini', max_depth=None,\n",
      "            max_features=None, max_leaf_nodes=None,\n",
      "            min_impurity_decrease=0.0, min_impurity_split=None,\n",
      "            min_samples_leaf=1, min_samples_split=2,\n",
      "            min_weight_fraction_leaf=0.0, presort=False, random_state=42,\n",
      "            splitter='best')\n",
      "KNeighborsClassifier(algorithm='auto', leaf_size=30, metric='minkowski',\n",
      "           metric_params=None, n_jobs=1, n_neighbors=5, p=2,\n",
      "           weights='uniform')\n",
      "GaussianNB(priors=None)\n",
      "MLPClassifier(activation='relu', alpha=0.0001, batch_size='auto', beta_1=0.9,\n",
      "       beta_2=0.999, early_stopping=False, epsilon=1e-08,\n",
      "       hidden_layer_sizes=(100,), learning_rate='constant',\n",
      "       learning_rate_init=0.001, max_iter=200, momentum=0.9,\n",
      "       nesterovs_momentum=True, power_t=0.5, random_state=42, shuffle=True,\n",
      "       solver='adam', tol=0.0001, validation_fraction=0.1, verbose=False,\n",
      "       warm_start=False)\n"
     ]
    }
   ],
   "source": [
    "classifiers_list = f.create_classifiers()\n",
    "for i in range(len(classifiers_list)):\n",
    "    print(classifiers_list[i][1])"
   ]
  },
  {
   "cell_type": "markdown",
   "metadata": {},
   "source": [
    "---\n",
    "# Majority vote classifier\n",
    "In the code cells below, I will create one majority vote classifier for each dataset and check their accuracy and confusion matrix over the 2016-2017 regular season dataset."
   ]
  },
  {
   "cell_type": "markdown",
   "metadata": {},
   "source": [
    "## Last game"
   ]
  },
  {
   "cell_type": "code",
   "execution_count": 27,
   "metadata": {},
   "outputs": [
    {
     "name": "stdout",
     "output_type": "stream",
     "text": [
      "Majority vote classifier score in the 2016-2017 regular season dataset: 0.59427\n"
     ]
    }
   ],
   "source": [
    "mvc_lg = MajorityVoteClassifier(classifiers_list)\n",
    "mvc_lg.fit(train_lg_reduced, y_train)\n",
    "mvc_lg_score = mvc_lg.score(X_2016_2017_lg_reduced, y_2016_2017)\n",
    "print('Majority vote classifier score in the 2016-2017 regular season dataset: {:.5f}'.format(mvc_lg_score))"
   ]
  },
  {
   "cell_type": "markdown",
   "metadata": {},
   "source": [
    "In the code cells below, I will optimize the classifiers and calculate its new accuracy and confusion matrix:"
   ]
  },
  {
   "cell_type": "code",
   "execution_count": 28,
   "metadata": {
    "scrolled": true
   },
   "outputs": [
    {
     "name": "stdout",
     "output_type": "stream",
     "text": [
      "-----------------------------------------------------------------------------------------------------------------------------\n",
      "Classifier: LogisticRegression(C=1.0, class_weight=None, dual=False, fit_intercept=True,\n",
      "          intercept_scaling=1, max_iter=100, multi_class='ovr', n_jobs=1,\n",
      "          penalty='l2', random_state=42, solver='liblinear', tol=0.0001,\n",
      "          verbose=0, warm_start=False)\n",
      "Best parameters: {'C': 0.0001, 'class_weight': None, 'solver': 'saga'}\n",
      "Best score: 0.612\n",
      "-----------------------------------------------------------------------------------------------------------------------------\n",
      "Classifier: DecisionTreeClassifier(class_weight=None, criterion='gini', max_depth=None,\n",
      "            max_features=None, max_leaf_nodes=None,\n",
      "            min_impurity_decrease=0.0, min_impurity_split=None,\n",
      "            min_samples_leaf=1, min_samples_split=2,\n",
      "            min_weight_fraction_leaf=0.0, presort=False, random_state=42,\n",
      "            splitter='best')\n",
      "Best parameters: {'class_weight': None, 'criterion': 'gini', 'min_samples_leaf': 0.05, 'min_samples_split': 0.1, 'min_weight_fraction_leaf': 0.125}\n",
      "Best score: 0.612\n",
      "-----------------------------------------------------------------------------------------------------------------------------\n",
      "Classifier: KNeighborsClassifier(algorithm='auto', leaf_size=30, metric='minkowski',\n",
      "           metric_params=None, n_jobs=1, n_neighbors=5, p=2,\n",
      "           weights='uniform')\n",
      "Best parameters: {'metric': 'manhattan', 'n_neighbors': 13, 'weights': 'distance'}\n",
      "Best score: 0.591\n",
      "-----------------------------------------------------------------------------------------------------------------------------\n",
      "Classifier: GaussianNB(priors=None)\n",
      "Best parameters: {}\n",
      "Best score: 0.613\n",
      "-----------------------------------------------------------------------------------------------------------------------------\n",
      "Classifier: MLPClassifier(activation='relu', alpha=0.0001, batch_size='auto', beta_1=0.9,\n",
      "       beta_2=0.999, early_stopping=False, epsilon=1e-08,\n",
      "       hidden_layer_sizes=(100,), learning_rate='constant',\n",
      "       learning_rate_init=0.001, max_iter=200, momentum=0.9,\n",
      "       nesterovs_momentum=True, power_t=0.5, random_state=42, shuffle=True,\n",
      "       solver='adam', tol=0.0001, validation_fraction=0.1, verbose=False,\n",
      "       warm_start=False)\n",
      "Best parameters: {'alpha': 0.0001, 'learning_rate': 'constant', 'solver': 'adam'}\n",
      "Best score: 0.616\n"
     ]
    }
   ],
   "source": [
    "optimized_classifiers_lg = f.optimize_classifiers(mvc_lg.classifiers, train_lg_reduced, y_train)"
   ]
  },
  {
   "cell_type": "code",
   "execution_count": 29,
   "metadata": {},
   "outputs": [
    {
     "name": "stdout",
     "output_type": "stream",
     "text": [
      "MVC score in the 2016-2017 regular season dataset after optimizing classifiers: 0.59513\n"
     ]
    }
   ],
   "source": [
    "mvc_lg.classifiers = optimized_classifiers_lg\n",
    "mvc_lg_score_optimized = mvc_lg.score(X_2016_2017_lg_reduced, y_2016_2017)\n",
    "print('MVC score in the 2016-2017 regular season dataset after optimizing classifiers: {:.5f}'.format(mvc_lg_score_optimized))"
   ]
  },
  {
   "cell_type": "code",
   "execution_count": 30,
   "metadata": {},
   "outputs": [
    {
     "data": {
      "image/png": "[encoded data removed]",
      "text/plain": [
       "<matplotlib.figure.Figure at 0x2cc034e33c8>"
      ]
     },
     "metadata": {},
     "output_type": "display_data"
    }
   ],
   "source": [
    "# I will plot the non-optimized majority vote classifier because it has a higher accuracy when compared with the optimized one \n",
    "mvc_lg_predictions = mvc_lg.predict(X_2016_2017_lg_reduced)\n",
    "cm_mvc_lg = confusion_matrix(y_2016_2017, mvc_lg_predictions)\n",
    "\n",
    "f.plot_confusion_matrix(cm_mvc_lg, False, 'Majority Vote Classifier (trained with last game dataset)')"
   ]
  },
  {
   "cell_type": "markdown",
   "metadata": {},
   "source": [
    "## Last two games"
   ]
  },
  {
   "cell_type": "code",
   "execution_count": 31,
   "metadata": {},
   "outputs": [
    {
     "name": "stdout",
     "output_type": "stream",
     "text": [
      "Majority vote classifier score in the 2016-2017 regular season dataset: 0.58732\n"
     ]
    }
   ],
   "source": [
    "mvc_l2g = MajorityVoteClassifier(classifiers_list)\n",
    "mvc_l2g.fit(train_l2g_reduced, y_train)\n",
    "mvc_l2g_score = mvc_l2g.score(X_2016_2017_l2g_reduced, y_2016_2017)\n",
    "print('Majority vote classifier score in the 2016-2017 regular season dataset: {:.5f}'.format(mvc_l2g_score))"
   ]
  },
  {
   "cell_type": "markdown",
   "metadata": {},
   "source": [
    "In the code cells below, I will optimize the classifiers and calculate its new accuracy and confusion matrix:"
   ]
  },
  {
   "cell_type": "code",
   "execution_count": 32,
   "metadata": {
    "scrolled": true
   },
   "outputs": [
    {
     "name": "stderr",
     "output_type": "stream",
     "text": [
      "C:\\Users\\mathe\\Anaconda3\\lib\\site-packages\\scipy\\optimize\\linesearch.py:312: LineSearchWarning: The line search algorithm did not converge\n",
      "  warn('The line search algorithm did not converge', LineSearchWarning)\n",
      "C:\\Users\\mathe\\Anaconda3\\lib\\site-packages\\sklearn\\utils\\optimize.py:195: UserWarning: Line Search failed\n",
      "  warnings.warn('Line Search failed')\n"
     ]
    },
    {
     "name": "stdout",
     "output_type": "stream",
     "text": [
      "-----------------------------------------------------------------------------------------------------------------------------\n",
      "Classifier: LogisticRegression(C=1.0, class_weight=None, dual=False, fit_intercept=True,\n",
      "          intercept_scaling=1, max_iter=100, multi_class='ovr', n_jobs=1,\n",
      "          penalty='l2', random_state=42, solver='liblinear', tol=0.0001,\n",
      "          verbose=0, warm_start=False)\n",
      "Best parameters: {'C': 0.0001, 'class_weight': None, 'solver': 'saga'}\n",
      "Best score: 0.613\n",
      "-----------------------------------------------------------------------------------------------------------------------------\n",
      "Classifier: DecisionTreeClassifier(class_weight=None, criterion='gini', max_depth=None,\n",
      "            max_features=None, max_leaf_nodes=None,\n",
      "            min_impurity_decrease=0.0, min_impurity_split=None,\n",
      "            min_samples_leaf=1, min_samples_split=2,\n",
      "            min_weight_fraction_leaf=0.0, presort=False, random_state=42,\n",
      "            splitter='best')\n",
      "Best parameters: {'class_weight': None, 'criterion': 'gini', 'min_samples_leaf': 0.05, 'min_samples_split': 0.1, 'min_weight_fraction_leaf': 0.125}\n",
      "Best score: 0.613\n",
      "-----------------------------------------------------------------------------------------------------------------------------\n",
      "Classifier: KNeighborsClassifier(algorithm='auto', leaf_size=30, metric='minkowski',\n",
      "           metric_params=None, n_jobs=1, n_neighbors=5, p=2,\n",
      "           weights='uniform')\n",
      "Best parameters: {'metric': 'manhattan', 'n_neighbors': 13, 'weights': 'uniform'}\n",
      "Best score: 0.582\n",
      "-----------------------------------------------------------------------------------------------------------------------------\n",
      "Classifier: GaussianNB(priors=None)\n",
      "Best parameters: {}\n",
      "Best score: 0.615\n",
      "-----------------------------------------------------------------------------------------------------------------------------\n",
      "Classifier: MLPClassifier(activation='relu', alpha=0.0001, batch_size='auto', beta_1=0.9,\n",
      "       beta_2=0.999, early_stopping=False, epsilon=1e-08,\n",
      "       hidden_layer_sizes=(100,), learning_rate='constant',\n",
      "       learning_rate_init=0.001, max_iter=200, momentum=0.9,\n",
      "       nesterovs_momentum=True, power_t=0.5, random_state=42, shuffle=True,\n",
      "       solver='adam', tol=0.0001, validation_fraction=0.1, verbose=False,\n",
      "       warm_start=False)\n",
      "Best parameters: {'alpha': 0.01, 'learning_rate': 'constant', 'solver': 'adam'}\n",
      "Best score: 0.619\n"
     ]
    }
   ],
   "source": [
    "optimized_classifiers_l2g = f.optimize_classifiers(mvc_l2g.classifiers, train_l2g_reduced, y_train)"
   ]
  },
  {
   "cell_type": "code",
   "execution_count": 33,
   "metadata": {},
   "outputs": [
    {
     "name": "stdout",
     "output_type": "stream",
     "text": [
      "MVC score in the 2016-2017 regular season dataset after optimizing classifiers: 0.58992\n"
     ]
    }
   ],
   "source": [
    "mvc_l2g.classifiers = optimized_classifiers_l2g\n",
    "mvc_l2g_score_optimized = mvc_l2g.score(X_2016_2017_l2g_reduced, y_2016_2017)\n",
    "print('MVC score in the 2016-2017 regular season dataset after optimizing classifiers: {:.5f}'.format(mvc_l2g_score_optimized))"
   ]
  },
  {
   "cell_type": "code",
   "execution_count": 34,
   "metadata": {},
   "outputs": [
    {
     "data": {
      "image/png": "[encoded data removed]",
      "text/plain": [
       "<matplotlib.figure.Figure at 0x2cc73706e80>"
      ]
     },
     "metadata": {},
     "output_type": "display_data"
    }
   ],
   "source": [
    "mvc_l2g_predictions = mvc_l2g.predict(X_2016_2017_l2g_reduced)\n",
    "cm_mvc_l2g = confusion_matrix(y_2016_2017, mvc_l2g_predictions)\n",
    "\n",
    "f.plot_confusion_matrix(cm_mvc_l2g, False, 'Majority Vote Classifier (trained with last two games dataset)')"
   ]
  },
  {
   "cell_type": "markdown",
   "metadata": {},
   "source": [
    "## Last five games"
   ]
  },
  {
   "cell_type": "code",
   "execution_count": 35,
   "metadata": {},
   "outputs": [
    {
     "name": "stdout",
     "output_type": "stream",
     "text": [
      "Majority vote classifier score in the 2016-2017 regular season dataset: 0.58818\n"
     ]
    }
   ],
   "source": [
    "mvc_l5g = MajorityVoteClassifier(classifiers_list)\n",
    "mvc_l5g.fit(train_l5g_reduced, y_train)\n",
    "mvc_l5g_score = mvc_l5g.score(X_2016_2017_l5g_reduced, y_2016_2017)\n",
    "print('Majority vote classifier score in the 2016-2017 regular season dataset: {:.5f}'.format(mvc_l5g_score))"
   ]
  },
  {
   "cell_type": "markdown",
   "metadata": {},
   "source": [
    "In the code cells below, I will optimize the classifiers and calculate its new accuracy and confusion matrix:"
   ]
  },
  {
   "cell_type": "code",
   "execution_count": 36,
   "metadata": {
    "scrolled": true
   },
   "outputs": [
    {
     "name": "stdout",
     "output_type": "stream",
     "text": [
      "-----------------------------------------------------------------------------------------------------------------------------\n",
      "Classifier: LogisticRegression(C=1.0, class_weight=None, dual=False, fit_intercept=True,\n",
      "          intercept_scaling=1, max_iter=100, multi_class='ovr', n_jobs=1,\n",
      "          penalty='l2', random_state=42, solver='liblinear', tol=0.0001,\n",
      "          verbose=0, warm_start=False)\n",
      "Best parameters: {'C': 0.001, 'class_weight': None, 'solver': 'saga'}\n",
      "Best score: 0.614\n",
      "-----------------------------------------------------------------------------------------------------------------------------\n",
      "Classifier: DecisionTreeClassifier(class_weight=None, criterion='gini', max_depth=None,\n",
      "            max_features=None, max_leaf_nodes=None,\n",
      "            min_impurity_decrease=0.0, min_impurity_split=None,\n",
      "            min_samples_leaf=1, min_samples_split=2,\n",
      "            min_weight_fraction_leaf=0.0, presort=False, random_state=42,\n",
      "            splitter='best')\n",
      "Best parameters: {'class_weight': None, 'criterion': 'gini', 'min_samples_leaf': 0.05, 'min_samples_split': 0.1, 'min_weight_fraction_leaf': 0.125}\n",
      "Best score: 0.615\n",
      "-----------------------------------------------------------------------------------------------------------------------------\n",
      "Classifier: KNeighborsClassifier(algorithm='auto', leaf_size=30, metric='minkowski',\n",
      "           metric_params=None, n_jobs=1, n_neighbors=5, p=2,\n",
      "           weights='uniform')\n",
      "Best parameters: {'metric': 'chebyshev', 'n_neighbors': 13, 'weights': 'uniform'}\n",
      "Best score: 0.598\n",
      "-----------------------------------------------------------------------------------------------------------------------------\n",
      "Classifier: GaussianNB(priors=None)\n",
      "Best parameters: {}\n",
      "Best score: 0.615\n",
      "-----------------------------------------------------------------------------------------------------------------------------\n",
      "Classifier: MLPClassifier(activation='relu', alpha=0.0001, batch_size='auto', beta_1=0.9,\n",
      "       beta_2=0.999, early_stopping=False, epsilon=1e-08,\n",
      "       hidden_layer_sizes=(100,), learning_rate='constant',\n",
      "       learning_rate_init=0.001, max_iter=200, momentum=0.9,\n",
      "       nesterovs_momentum=True, power_t=0.5, random_state=42, shuffle=True,\n",
      "       solver='adam', tol=0.0001, validation_fraction=0.1, verbose=False,\n",
      "       warm_start=False)\n",
      "Best parameters: {'alpha': 0.0001, 'learning_rate': 'adaptive', 'solver': 'sgd'}\n",
      "Best score: 0.617\n"
     ]
    }
   ],
   "source": [
    "optimized_classifiers_l5g = f.optimize_classifiers(mvc_l5g.classifiers, train_l5g_reduced, y_train)"
   ]
  },
  {
   "cell_type": "code",
   "execution_count": 37,
   "metadata": {},
   "outputs": [
    {
     "name": "stdout",
     "output_type": "stream",
     "text": [
      "MVC score in the 2016-2017 regular season dataset after optimizing classifiers: 0.58992\n"
     ]
    }
   ],
   "source": [
    "mvc_l5g.classifiers = optimized_classifiers_l5g\n",
    "mvc_l5g_score_optimized = mvc_l5g.score(X_2016_2017_l5g_reduced, y_2016_2017)\n",
    "print('MVC score in the 2016-2017 regular season dataset after optimizing classifiers: {:.5f}'.format(mvc_l5g_score_optimized))"
   ]
  },
  {
   "cell_type": "code",
   "execution_count": 38,
   "metadata": {},
   "outputs": [
    {
     "data": {
      "image/png": "[encoded data removed]",
      "text/plain": [
       "<matplotlib.figure.Figure at 0x2cc033f2b00>"
      ]
     },
     "metadata": {},
     "output_type": "display_data"
    }
   ],
   "source": [
    "mvc_l5g_predictions = mvc_l5g.predict(X_2016_2017_l5g_reduced)\n",
    "cm_mvc_l5g = confusion_matrix(y_2016_2017, mvc_l5g_predictions)\n",
    "\n",
    "f.plot_confusion_matrix(cm_mvc_l5g, False, 'Majority Vote Classifier (trained with last five games dataset)')"
   ]
  }
 ],
 "metadata": {
  "kernelspec": {
   "display_name": "Python 3",
   "language": "python",
   "name": "python3"
  },
  "language_info": {
   "codemirror_mode": {
    "name": "ipython",
    "version": 3
   },
   "file_extension": ".py",
   "mimetype": "text/x-python",
   "name": "python",
   "nbconvert_exporter": "python",
   "pygments_lexer": "ipython3",
   "version": "3.6.4"
  }
 },
 "nbformat": 4,
 "nbformat_minor": 2
}
