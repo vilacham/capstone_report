{
 "cells": [
  {
   "cell_type": "markdown",
   "metadata": {},
   "source": [
    "# Using Machine Learning to Predict NBA Games Winners\n",
    "\n",
    "This jupyter notebook is an auxiliar material to my capstone project report in the Udacity's Machine Learning Engineer Nanodegree. The PDF file can be found in my GitHub repository:\n",
    "\n",
    "* https://github.com/vilacham/capstone_report"
   ]
  },
  {
   "cell_type": "markdown",
   "metadata": {},
   "source": [
    "---\n",
    "## Importing data\n",
    "\n",
    "As a first step, I will import the dataset and create a copy of it to work on:"
   ]
  },
  {
   "cell_type": "code",
   "execution_count": 58,
   "metadata": {},
   "outputs": [
    {
     "name": "stdout",
     "output_type": "stream",
     "text": [
      "Dataset was successfully imported and has 36154 samples with 96 features each.\n"
     ]
    }
   ],
   "source": [
    "# Import pandas\n",
    "import pandas as pd\n",
    "\n",
    "# Import dataset and create a copy of it\n",
    "try:\n",
    "    original_data = pd.read_excel('capstone_database.xlsx')\n",
    "    data = original_data\n",
    "    print('Dataset was successfully imported and has {} samples with {} features each.'.format(*data.shape))\n",
    "except:\n",
    "    print('Dataset could not be loaded. Is it missing?')"
   ]
  },
  {
   "cell_type": "markdown",
   "metadata": {},
   "source": [
    "---\n",
    "## Data preprocessing\n",
    "\n",
    "Now that I have a copy of the dataset, my next steps are: \n",
    "* rename its columns;\n",
    "* remove NaNs;\n",
    "* deal with categorical data;\n",
    "* create the label column; and\n",
    "* drop unnecessary columns."
   ]
  },
  {
   "cell_type": "code",
   "execution_count": 59,
   "metadata": {
    "collapsed": true
   },
   "outputs": [],
   "source": [
    "# Rename data columns\n",
    "data.columns = ['DATE', 'A TEAM', 'H TEAM', 'osite', 'A PTS', 'H PTS', 'A STK', 'H STK', 'A PTS LG', 'A FGM LG', 'A FGA LG', \n",
    "                'A 3PM LG', 'A 3PA LG', 'A FTM LG', 'A FTA LG', 'A OREB LG', 'A DREB LG', 'A REB LG', 'A AST LG', 'A TOV LG', \n",
    "                'A STL LG', 'A BLK LG', 'H PTS LG', 'H FGM LG', 'H FGA LG', 'H 3PM LG', 'H 3PA LG', 'H FTM LG', 'H FTA LG', \n",
    "                'H OREB LG', 'H DREB LG', 'H REB LG', 'H AST LG', 'H TOV LG', 'H STL LG', 'H BLK LG', 'A PTS L2G', 'A FGM L2G', \n",
    "                'A FGA L2G', 'A 3PM L2G', 'A 3PA L2G', 'A FTM L2G', 'A FTA L2G', 'A OREB L2G', 'A DREB L2G', 'A REB L2G', \n",
    "                'A AST L2G', 'A TOV L2G', 'A STL L2G', 'A BLK L2G', 'H PTS L2G', 'H FGM L2G', 'H FGA L2G', 'H 3PM L2G', \n",
    "                'H 3PA L2G', 'H FTM L2G', 'H FTA L2G', 'H OREB L2G', 'H DREB L2G', 'H REB L2G', 'H AST L2G', 'H TOV L2G', \n",
    "                'H STL L2G', 'H BLK L2G', 'A PTS L5G', 'A FGM L5G', 'A FGA L5G', 'A 3PM L5G', 'A 3PA L5G', 'A FTM L5G', \n",
    "                'A FTA L5G', 'A OREB L5G', 'A DREB L5G', 'A REB L5G', 'A AST L5G', 'A TOV L5G', 'A STL L5G', 'A BLK L5G', \n",
    "                'H PTS L5G', 'H FGM L5G', 'H FGA L5G', 'H 3PM L5G', 'H 3PA L5G', 'H FTM L5G', 'H FTA L5G', 'H OREB L5G', \n",
    "                'H DREB L5G', 'H REB L5G', 'H AST L5G', 'H TOV L5G', 'H STL L5G', 'H BLK L5G', 'OVT', 'DAY', 'MTH', 'PLAYOFFS']\n",
    "\n",
    "# Import numpy\n",
    "import numpy as np\n",
    "\n",
    "# Replace '-' and 'away' by NaN values and then replace it\n",
    "data.replace(to_replace='-', value=np.nan, inplace=True, regex=True)\n",
    "data.replace(to_replace='away', value=np.nan, inplace=True, regex=True)\n",
    "data.dropna(inplace=True)\n",
    "data.reset_index(inplace=True)\n",
    "\n",
    "# Deal with 'DAY' and 'MTH' columns\n",
    "data = pd.get_dummies(data, columns=['DAY', 'MTH'])\n",
    "\n",
    "# Create label column (1 for home team win, 0 for visitor win)\n",
    "data['WINNER'] = (data['H PTS'] > data['A PTS']).astype(int)\n",
    "\n",
    "# Drop unecesary columns\n",
    "columns_to_drop = ['index', 'DATE', 'A TEAM', 'H TEAM', 'osite', 'A PTS', 'H PTS']\n",
    "data.drop(columns_to_drop, axis=1, inplace=True)"
   ]
  },
  {
   "cell_type": "markdown",
   "metadata": {},
   "source": [
    "Now that I have only te features that I want in my dataset, I will make sure all of them are numerical."
   ]
  },
  {
   "cell_type": "code",
   "execution_count": 60,
   "metadata": {
    "collapsed": true
   },
   "outputs": [],
   "source": [
    "# Convert all features to numerical\n",
    "data = data.apply(pd.to_numeric)"
   ]
  },
  {
   "cell_type": "markdown",
   "metadata": {},
   "source": []
  },
  {
   "cell_type": "code",
   "execution_count": 61,
   "metadata": {},
   "outputs": [
    {
     "name": "stdout",
     "output_type": "stream",
     "text": [
      "110 outliers for the feature A PTS LG.\n",
      "127 outliers for the feature A FGM LG.\n",
      "157 outliers for the feature A FGA LG.\n",
      "90 outliers for the feature A 3PM LG.\n",
      "116 outliers for the feature A 3PA LG.\n",
      "200 outliers for the feature A FTM LG.\n",
      "185 outliers for the feature A FTA LG.\n",
      "71 outliers for the feature A OREB LG.\n",
      "147 outliers for the feature A DREB LG.\n",
      "124 outliers for the feature A REB LG.\n",
      "115 outliers for the feature A AST LG.\n",
      "203 outliers for the feature A TOV LG.\n",
      "584 outliers for the feature A STL LG.\n",
      "461 outliers for the feature A BLK LG.\n",
      "107 outliers for the feature H PTS LG.\n",
      "121 outliers for the feature H FGM LG.\n",
      "141 outliers for the feature H FGA LG.\n",
      "93 outliers for the feature H 3PM LG.\n",
      "127 outliers for the feature H 3PA LG.\n",
      "173 outliers for the feature H FTM LG.\n",
      "152 outliers for the feature H FTA LG.\n",
      "62 outliers for the feature H OREB LG.\n",
      "136 outliers for the feature H DREB LG.\n",
      "210 outliers for the feature H REB LG.\n",
      "103 outliers for the feature H AST LG.\n",
      "172 outliers for the feature H TOV LG.\n",
      "118 outliers for the feature H STL LG.\n",
      "452 outliers for the feature H BLK LG.\n",
      "112 outliers for the feature A PTS L2G.\n",
      "99 outliers for the feature A FGM L2G.\n",
      "172 outliers for the feature A FGA L2G.\n",
      "74 outliers for the feature A 3PM L2G.\n",
      "167 outliers for the feature A 3PA L2G.\n",
      "126 outliers for the feature A FTM L2G.\n",
      "192 outliers for the feature A FTA L2G.\n",
      "137 outliers for the feature A OREB L2G.\n",
      "84 outliers for the feature A DREB L2G.\n",
      "201 outliers for the feature A REB L2G.\n",
      "150 outliers for the feature A AST L2G.\n",
      "243 outliers for the feature A TOV L2G.\n",
      "95 outliers for the feature A STL L2G.\n",
      "212 outliers for the feature A BLK L2G.\n",
      "152 outliers for the feature H PTS L2G.\n",
      "81 outliers for the feature H FGM L2G.\n",
      "114 outliers for the feature H FGA L2G.\n",
      "61 outliers for the feature H 3PM L2G.\n",
      "195 outliers for the feature H 3PA L2G.\n",
      "116 outliers for the feature H FTM L2G.\n",
      "191 outliers for the feature H FTA L2G.\n",
      "123 outliers for the feature H OREB L2G.\n",
      "101 outliers for the feature H DREB L2G.\n",
      "131 outliers for the feature H REB L2G.\n",
      "95 outliers for the feature H AST L2G.\n",
      "243 outliers for the feature H TOV L2G.\n",
      "78 outliers for the feature H STL L2G.\n",
      "221 outliers for the feature H BLK L2G.\n",
      "161 outliers for the feature A PTS L5G.\n",
      "189 outliers for the feature A FGM L5G.\n",
      "88 outliers for the feature A FGA L5G.\n",
      "142 outliers for the feature A 3PM L5G.\n",
      "121 outliers for the feature A 3PA L5G.\n",
      "129 outliers for the feature A FTM L5G.\n",
      "135 outliers for the feature A FTA L5G.\n",
      "187 outliers for the feature A OREB L5G.\n",
      "118 outliers for the feature A DREB L5G.\n",
      "176 outliers for the feature A REB L5G.\n",
      "177 outliers for the feature A AST L5G.\n",
      "100 outliers for the feature A TOV L5G.\n",
      "98 outliers for the feature A STL L5G.\n",
      "100 outliers for the feature A BLK L5G.\n",
      "124 outliers for the feature H PTS L5G.\n",
      "155 outliers for the feature H FGM L5G.\n",
      "93 outliers for the feature H FGA L5G.\n",
      "139 outliers for the feature H 3PM L5G.\n",
      "166 outliers for the feature H 3PA L5G.\n",
      "109 outliers for the feature H FTM L5G.\n",
      "129 outliers for the feature H FTA L5G.\n",
      "187 outliers for the feature H OREB L5G.\n",
      "108 outliers for the feature H DREB L5G.\n",
      "120 outliers for the feature H REB L5G.\n",
      "156 outliers for the feature H AST L5G.\n",
      "92 outliers for the feature H TOV L5G.\n",
      "88 outliers for the feature H STL L5G.\n",
      "93 outliers for the feature H BLK L5G.\n",
      "1075 outliers for the feature OVT.\n",
      "3214 outliers for more than one feature.\n",
      "Original data had 16926 samples.\n",
      "New data has 13712 samples.\n"
     ]
    }
   ],
   "source": [
    "# Import counter\n",
    "from collections import Counter\n",
    "\n",
    "# Drop outliers\n",
    "counter = Counter()\n",
    "for feature in data.iloc[:, 2:87].columns:\n",
    "    quartile_1 = np.percentile(data[feature], 25)\n",
    "    quartile_3 = np.percentile(data[feature], 75)\n",
    "    step = (quartile_3 - quartile_1) * 1.5\n",
    "    outliers = data[~((data[feature] >= quartile_1 - step) & (data[feature] <= quartile_3 + step))]\n",
    "    print('{} outliers for the feature {}.'.format(len(outliers), feature))\n",
    "    counter.update(outliers.index.values)\n",
    "frequent_outliers = [outlier[0] for outlier in counter.items() if outlier[1] > 1]\n",
    "print('{} outliers for more than one feature.'.format(len(frequent_outliers)))\n",
    "good_data = data.drop(data.index[frequent_outliers]).reset_index(drop = True)\n",
    "print(\"Original data had {} samples.\".format(data.shape[0]))\n",
    "print(\"New data has {} samples.\".format(good_data.shape[0]))"
   ]
  },
  {
   "cell_type": "markdown",
   "metadata": {},
   "source": []
  },
  {
   "cell_type": "code",
   "execution_count": 62,
   "metadata": {
    "collapsed": true
   },
   "outputs": [],
   "source": [
    "# import train_test_split\n",
    "from sklearn.model_selection import train_test_split\n",
    "\n",
    "# Split dataset\n",
    "X, y = data.iloc[:, :-1], data.iloc[:, -1]\n",
    "X_train, X_test, y_train, y_test = train_test_split(X, y, test_size=0.3, random_state=42, stratify=y)"
   ]
  },
  {
   "cell_type": "markdown",
   "metadata": {},
   "source": []
  },
  {
   "cell_type": "code",
   "execution_count": 63,
   "metadata": {
    "collapsed": true
   },
   "outputs": [],
   "source": [
    "# Import standard scaler\n",
    "from sklearn.preprocessing import StandardScaler\n",
    "\n",
    "# Define columns to standardize\n",
    "columns_to_standardize = ['A PTS LG', 'A FGM LG', 'A FGA LG', 'A 3PM LG', 'A 3PA LG', 'A FTM LG', 'A FTA LG', 'A OREB LG', \n",
    "                          'A DREB LG', 'A REB LG', 'A AST LG', 'A TOV LG', 'A STL LG', 'A BLK LG', 'H PTS LG', 'H FGM LG', \n",
    "                          'H FGA LG', 'H 3PM LG', 'H 3PA LG', 'H FTM LG', 'H FTA LG', 'H OREB LG', 'H DREB LG', 'H REB LG', \n",
    "                          'H AST LG', 'H TOV LG', 'H STL LG', 'H BLK LG', 'A PTS L2G', 'A FGM L2G', 'A FGA L2G', 'A 3PM L2G', \n",
    "                          'A 3PA L2G', 'A FTM L2G', 'A FTA L2G', 'A OREB L2G', 'A DREB L2G', 'A REB L2G', 'A AST L2G', \n",
    "                          'A TOV L2G', 'A STL L2G', 'A BLK L2G', 'H PTS L2G', 'H FGM L2G', 'H FGA L2G', 'H 3PM L2G', \n",
    "                          'H 3PA L2G', 'H FTM L2G', 'H FTA L2G', 'H OREB L2G', 'H DREB L2G', 'H REB L2G', 'H AST L2G', \n",
    "                          'H TOV L2G', 'H STL L2G', 'H BLK L2G', 'A PTS L5G', 'A FGM L5G', 'A FGA L5G', 'A 3PM L5G', \n",
    "                          'A 3PA L5G', 'A FTM L5G', 'A FTA L5G', 'A OREB L5G', 'A DREB L5G', 'A REB L5G', 'A AST L5G', \n",
    "                          'A TOV L5G', 'A STL L5G', 'A BLK L5G', 'H PTS L5G', 'H FGM L5G', 'H FGA L5G', 'H 3PM L5G', \n",
    "                          'H 3PA L5G', 'H FTM L5G', 'H FTA L5G', 'H OREB L5G', 'H DREB L5G', 'H REB L5G', 'H AST L5G', \n",
    "                          'H TOV L5G', 'H STL L5G', 'H BLK L5G', 'OVT']\n",
    "\n",
    "# Create scaler object\n",
    "standard_scaler = StandardScaler()\n",
    "\n",
    "# Avoid pandas warning\n",
    "pd.options.mode.chained_assignment = None # default='warn'\n",
    "\n",
    "# Standardize training and testing datasets\n",
    "X_train.loc[:, columns_to_standardize] = standard_scaler.fit_transform(X_train[columns_to_standardize])\n",
    "X_test.loc[:, columns_to_standardize] = standard_scaler.transform(X_test[columns_to_standardize])"
   ]
  },
  {
   "cell_type": "markdown",
   "metadata": {},
   "source": []
  },
  {
   "cell_type": "code",
   "execution_count": 64,
   "metadata": {
    "collapsed": true
   },
   "outputs": [],
   "source": [
    "# Divide training set and get last game data\n",
    "X_train_last_game = X_train[list(X_train.columns[:30]) + list(X_train.columns[86:])]\n",
    "X_test_last_game = X_test[list(X_test.columns[:30]) + list(X_test.columns[86:])]\n",
    "\n",
    "# Divide training set and get last two games data\n",
    "X_train_last_two_games = X_train[list(X_train.columns[:2]) + list(X_train.columns[30:58]) + list(X_train.columns[86:])]\n",
    "X_test_last_two_games = X_test[list(X_test.columns[:2]) + list(X_test.columns[30:58]) + list(X_test.columns[86:])]\n",
    "\n",
    "# Divide training set and get last five games data\n",
    "X_train_last_five_games = X_train[list(X_train.columns[:2]) + list(X_train.columns[58:])]\n",
    "X_test_last_five_games = X_test[list(X_test.columns[:2]) + list(X_test.columns[58:])]"
   ]
  },
  {
   "cell_type": "markdown",
   "metadata": {},
   "source": [
    "---\n",
    "## Last game"
   ]
  },
  {
   "cell_type": "code",
   "execution_count": 100,
   "metadata": {},
   "outputs": [
    {
     "data": {
      "image/png": "[encoded data removed]",
      "text/plain": [
       "<matplotlib.figure.Figure at 0x1733afaee80>"
      ]
     },
     "metadata": {},
     "output_type": "display_data"
    },
    {
     "name": "stdout",
     "output_type": "stream",
     "text": [
      "Number of components: 8\n"
     ]
    }
   ],
   "source": [
    "# \n",
    "from sklearn.decomposition import PCA\n",
    "import matplotlib.pyplot as plt\n",
    "\n",
    "# Reduce dimensionality of the last game data\n",
    "pca = PCA(n_components=None)\n",
    "X_train_last_game_pca = pca.fit_transform(X_train_last_game)\n",
    "explained_variance_ratio = pca.explained_variance_ratio_\n",
    "cumulative_exp = np.cumsum(explained_variance_ratio)\n",
    "aux = 0\n",
    "n_comp = 0\n",
    "for i in range(len(cumulative_exp)):\n",
    "    aux = cumulative_exp[i]\n",
    "    if aux > 0.7:\n",
    "        n_comp = i + 1\n",
    "        break\n",
    "\n",
    "plt.clf()\n",
    "plt.bar(range(1, 48), explained_variance_ratio, alpha=0.5, align='center', label='individual explained variance')\n",
    "plt.step(range(1, 48), cumulative_exp, where='mid', label='cumulative explained variance')\n",
    "plt.plot(list(i for i in range(1, 48)), list(0.7 for i in range(1, 48)), '--', color='g')\n",
    "plt.legend(loc='best')\n",
    "plt.show()\n",
    "\n",
    "print('Number of components: {}'.format(i + 1))"
   ]
  },
  {
   "cell_type": "code",
   "execution_count": 68,
   "metadata": {},
   "outputs": [
    {
     "name": "stdout",
     "output_type": "stream",
     "text": [
      "0\n"
     ]
    }
   ],
   "source": [
    "from capstone_report_functions import get_n_principal_components\n",
    "n_comp = get_n_principal_components(X_train_last_game)\n",
    "print(n_comp)"
   ]
  },
  {
   "cell_type": "code",
   "execution_count": null,
   "metadata": {
    "collapsed": true
   },
   "outputs": [],
   "source": []
  }
 ],
 "metadata": {
  "kernelspec": {
   "display_name": "Python 3",
   "language": "python",
   "name": "python3"
  },
  "language_info": {
   "codemirror_mode": {
    "name": "ipython",
    "version": 3
   },
   "file_extension": ".py",
   "mimetype": "text/x-python",
   "name": "python",
   "nbconvert_exporter": "python",
   "pygments_lexer": "ipython3",
   "version": "3.6.1"
  }
 },
 "nbformat": 4,
 "nbformat_minor": 2
}
